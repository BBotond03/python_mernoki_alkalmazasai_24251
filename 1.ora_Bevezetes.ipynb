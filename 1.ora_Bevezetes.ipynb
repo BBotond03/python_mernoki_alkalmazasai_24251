{
 "cells": [
  {
   "cell_type": "markdown",
   "metadata": {},
   "source": [
    "# **Pyhon Mérnöki Alkalmazásai**\n",
    "\n",
    "#### **A kurzus célja:** Mindenki számára szeretnénk bemutatni, hogy milyen lehetőségek vannak a Python-ban, a kurzus során sokféle eszköz bemutatásra fog kerülni, a cél, hogy később ha szembe kerültök valamilyen mérnöki problémával legyen hova nyúlnotok.\n",
    "\n",
    "#### **Félév rendje**:\n",
    "1. *Bevezetés a Pythonba*\n",
    "2. *Filekezelés és Pandas*\n",
    "3. *Algoritmus elmélet*\n",
    "4. *ROS I.*\n",
    "5. *ROS II.*\n",
    "6. *Képfeldolgozás I.*\n",
    "7. *Képfeldolgozás II.*\n",
    "8. *Szünet*\n",
    "9. *Machine Learning*\n",
    "10. *Deep Learning I.*\n",
    "11. *Deep Learning II.*\n",
    "12. *Raspberry PI I.*\n",
    "13. *Raspberry PI II.*\n",
    "14. *Projekt bemutató óra*\n",
    "\n",
    "#### **Követelmények:** A félév teljesítésének egy nagy önálló projektfeladat leadása a feltétele. A feladatok a *7. héten* fognak kiírásra kerülni, minden témaköhez lesz feladat, valamint egyéni megbeszélés szerint egyéni feladatkitűzésre is sorkerülhet. \n",
    "\n",
    "#### **Munkakörnyezet telepítése:**"
   ]
  },
  {
   "cell_type": "markdown",
   "metadata": {},
   "source": [
    "# **Bevezetés a Pythonba**\n",
    "\n",
    "#### **Mi az a python?**\n",
    "- A python egy magas szintű, általános felhasználású, objektum orientált programozási nyelv. \n",
    "- A python függvények és objektumok c és c++ -ban vannak megírva és ilyen függvényekkel és osztályokkal könnyedén bővíthető.\n",
    "\n",
    "#### **Miért jó?**\n"
   ]
  },
  {
   "cell_type": "code",
   "execution_count": null,
   "metadata": {},
   "outputs": [],
   "source": []
  }
 ],
 "metadata": {
  "language_info": {
   "name": "python"
  }
 },
 "nbformat": 4,
 "nbformat_minor": 2
}
