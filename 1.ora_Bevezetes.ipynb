{
 "cells": [
  {
   "cell_type": "markdown",
   "metadata": {},
   "source": [
    "# **Pyhon Mérnöki Alkalmazásai**\n",
    "\n",
    "#### **A kurzus célja:** Mindenki számára szeretnénk bemutatni, hogy milyen lehetőségek vannak a Python-ban, a kurzus során sokféle eszköz bemutatásra fog kerülni, a cél, hogy később ha szembe kerültök valamilyen mérnöki problémával legyen hova nyúlnotok.\n",
    "\n",
    "#### **Félév rendje**:\n",
    "1. *Bevezetés a Pythonba*\n",
    "2. *Filekezelés és Pandas*\n",
    "3. *Algoritmus elmélet*\n",
    "4. *ROS I.*\n",
    "5. *ROS II.*\n",
    "6. *Képfeldolgozás I.*\n",
    "7. *Képfeldolgozás II.*\n",
    "8. *Szünet*\n",
    "9. *Machine Learning*\n",
    "10. *Deep Learning I.*\n",
    "11. *Deep Learning II.*\n",
    "12. *Raspberry PI I.*\n",
    "13. *Raspberry PI II.*\n",
    "14. *Projekt bemutató óra*\n",
    "\n",
    "#### **Követelmények:** A félév teljesítésének egy nagy önálló projektfeladat leadása a feltétele. A feladatok a *7. héten* fognak kiírásra kerülni, minden témaköhez lesz feladat, valamint egyéni megbeszélés szerint egyéni feladatkitűzésre is sorkerülhet. "
   ]
  },
  {
   "cell_type": "markdown",
   "metadata": {},
   "source": [
    "# **Bevezetés a Pythonba**\n",
    "\n",
    "#### **Mi az a python?**\n",
    "- A python egy magas szintű, általános felhasználású, objektum orientált programozási nyelv. \n",
    "- A python függvények és objektumok C és C++ -ban vannak megírva és ilyen függvényekkel és osztályokkal könnyedén bővíthető.\n",
    "\n",
    "#### **Miért tanuld meg a Pythont?**\n",
    "- Könnyen megtanulható\n",
    "- Könnyen olvasható\n",
    "- Sok külsős könyvtár (pl.: SciPy, NumPy, Django, Pandas) -> sok felhasználásra jó\n",
    "- Számos DeepLearninges és MaschineLearnineg felhasználása van\n",
    "- Ha gyorsan kell írni valmit, vagy tesztelni kell valamit hasznos tud lenni"
   ]
  },
  {
   "cell_type": "markdown",
   "metadata": {},
   "source": [
    "#### **I. Változók és Arimetikai műveletek**\n",
    "\n",
    "Adatokat, mint minden más programozási nyelvben is, változókban tároljuk. \n",
    "A változók tulajdonságai:\n",
    "- Név: érdemes beszélő neveket használni. Ez például nem szerencsés változó név: `dkjfa`, ez egy szerencsésebb változónév `myApple`.\n",
    "- Típus: Pythonban minden változó osztályként létezik, ezen kívül úgynevezett 'dynamic type' -ot használ azaz nem szükséges megadni a változó tipusát deklarációkor. (Ezen kívül 'dynamic cast'-ra is lehetőség van)\n",
    "- Érték: Python nyelvben szinte akármit eltárolhatunk változókban: egész számokat, tizedes törteket, szöveget, de akár teljes grafikonokat, képeket, vagy komplett neurális háló modelleket is! "
   ]
  },
  {
   "cell_type": "code",
   "execution_count": 4,
   "metadata": {},
   "outputs": [
    {
     "name": "stdout",
     "output_type": "stream",
     "text": [
      "Az a változó értéke: 5 és típusa: <class 'int'>\n",
      "Az a változó értéke: -7.2 és típusa: <class 'float'>\n",
      "Az a változó értéke: [1, 2, 3] és típusa: <class 'list'>\n",
      "Az a változó értéke: szöveg és típusa: <class 'str'>\n",
      "Az a változó értéke: [1, 2, 3, 4, 5] és típusa: <class 'list'>\n"
     ]
    }
   ],
   "source": [
    "a = 5\n",
    "print(\"Az a változó értéke:\", a, \"és típusa:\", type(a))\n",
    "\n",
    "b = -7.2\n",
    "print(\"Az a változó értéke:\", b, \"és típusa:\", type(b))\n",
    "\n",
    "c = [1,2,3]\n",
    "print(\"Az a változó értéke:\", c, \"és típusa:\", type(c))\n",
    "\n",
    "d = \"szöveg\"\n",
    "print(\"Az a változó értéke:\", d, \"és típusa:\", type(d))\n",
    "\n",
    "e = [1,2,3,4,5]\n",
    "print(\"Az a változó értéke:\", e, \"és típusa:\", type(e))\n",
    "# Tömbök hossza\n",
    "print(\"A lista: \"{len(e) \"hosszú\")"
   ]
  },
  {
   "cell_type": "markdown",
   "metadata": {},
   "source": [
    "#### **II. Aritmetikai műveletek**\n",
    "\n",
    "Mint minden más programozási nyelvben, itt is van értékadó operátorunk. Ez az `=` ezen kívül van öszeadó `+` és kivonó `-` operátor is.\n",
    "Az érték változtató operátorokat rövídítve is használhatjuk.\n",
    "- `a = a + 1` -> `a += 1`\n",
    "- `a = a - 1` -> `a -= 1`"
   ]
  },
  {
   "cell_type": "code",
   "execution_count": null,
   "metadata": {},
   "outputs": [],
   "source": [
    "# Értékadás operátor\n",
    "a = 5\n",
    "print(\"Az a változó értéke:\",a)\n",
    "print(f\"Az a változó értéke: {a}\")\n",
    "\n",
    "# Érték növelése 2-vel\n",
    "a = a + 2               # Az a változó új értéke legyen egyenlő az előző érték + 2-vel!\n",
    "print(f\"Az a változó új értéke\",a)\n",
    "\n",
    "# Kicsit kompaktabban\n",
    "a += 2\n",
    "print(f\"Az a változó még újabb értéke\",a)\n",
    "\n",
    "# Elemek hozzáadása tömbökhöz\n",
    "e.append(8)            # hozzáfűzés .append() metódussal\n",
    "e += [5]                 # hozzáfűzés az '+' operátorral: listát kell hozzáfűzni!\n",
    "print(f\"Az újonnan kapott érték tömbje: {e}\")"
   ]
  },
  {
   "cell_type": "markdown",
   "metadata": {},
   "source": [
    "### **III. Összetettebb aritmetikai műveletek (NumPy bevezetés)**\n",
    "\n",
    "A Pythonban sok beépítetten támogatott művelet van, azonban ha szeretnénk bonyolultabb műveleteket is végrehajtani (pl.: log(), sin() stb.) sok segítséget nyújthat nekünk a NumPy könyvtár. A könyvtár tartalmazza a MATLAB programozási nyelv szinte összes függvényét, azzonban azzal ellentétben ingyenesen hozzáférhető a legtöbb felhasználásra."
   ]
  },
  {
   "cell_type": "code",
   "execution_count": 5,
   "metadata": {},
   "outputs": [
    {
     "name": "stdout",
     "output_type": "stream",
     "text": [
      "Requirement already satisfied: numpy in c:\\users\\biebe\\anaconda3\\lib\\site-packages (1.24.3)\n"
     ]
    }
   ],
   "source": [
    "#NumPy teleptése\n",
    "!pip install numpy"
   ]
  },
  {
   "cell_type": "markdown",
   "metadata": {},
   "source": [
    "A könyvtár használatához használnunk kell az ´import´ kulcsszót. Ezt a program elején elegendő egyszer megtenni. Ezzel lesz lehetőségünk később minden külsős dependancy meghívására."
   ]
  },
  {
   "cell_type": "code",
   "execution_count": null,
   "metadata": {},
   "outputs": [],
   "source": [
    "import numpy as np      # Importáljuk a numpy könyvtárat a futtatókörnyezetünkbe"
   ]
  },
  {
   "cell_type": "markdown",
   "metadata": {},
   "source": [
    "A matematikai eszköztárunkat ez lényegesen bővíti. Nézzünk meg néhány műveletet:"
   ]
  },
  {
   "cell_type": "code",
   "execution_count": null,
   "metadata": {},
   "outputs": [],
   "source": [
    "x = -6\n",
    "\n",
    "# Abszolút érték\n",
    "print(f\"Az x = {x} abszolút értéke {np.abs(x)}\")\n",
    "\n",
    "x = 5.5\n",
    "\n",
    "# Alsó és felső egészrész\n",
    "print(f\"Az x = {x} alsó egészrésze {np.floor(x)}\")\n",
    "print(f\"Az x = {x} felső egészrésze {np.ceil(x)}\")\n",
    "\n",
    "# Gyökvonás\n",
    "print(f\"Az x = {x} négyzetgyöke {np.sqrt(x)}\")\n",
    "print(f\"Az x = {x} négyzetgyöke {np.power(x,(1/3))}\")"
   ]
  },
  {
   "cell_type": "code",
   "execution_count": null,
   "metadata": {},
   "outputs": [],
   "source": [
    "x = np.pi/6\n",
    "\n",
    "# Trigonometrikus függvények\n",
    "print(f\"A sin(x) értéke: {np.sin(x)}\")       # ~ 1/2\n",
    "print(f\"A cos(x) értéke: {np.cos(x)}\")       # ~ sqrt(3)/2\n",
    "print(f\"A tan(x) értéke: {np.tan(x)}\\n\")     # ~ sqrt(3)/3\n",
    "\n",
    "# Inverz trigonometrikus függvények\n",
    "y = 0.5\n",
    "print(f\"Az arcsin(y) értéke: {np.arcsin(y)}\")                       # ~ pi/6 radián\n",
    "\n",
    "# Radián átváltása fokra\n",
    "print(f\"Az arcsin(y) értéke fokban: {np.rad2deg(np.arcsin(y))}\")    # pi/6 [rad] = 30 [°]"
   ]
  },
  {
   "cell_type": "code",
   "execution_count": null,
   "metadata": {},
   "outputs": [],
   "source": [
    "x = np.e**5\n",
    "print(x)\n",
    "\n",
    "# Természetes alapú logaritmus\n",
    "print(f\"Az ln(x) értéke: {np.log(x)}\")      # 5\n",
    "\n",
    "# 10-es alapú logaritmus\n",
    "print(f\"Az lg(x) értéke: {np.log10(x)}\")    # ~ 2.1 - 2.2"
   ]
  },
  {
   "cell_type": "markdown",
   "metadata": {},
   "source": [
    "### **IV.Feltételes utasítás 'if'**\n",
    "A Python nyelvben a következő módon tudunk feltételes elágazást létrehozni:<br />\n",
    "\n",
    "if(<feltétel>):<br />\n",
    "    <utasítás1><br />\n",
    "    <utasítás2>...<br />\n",
    "else:<br />\n",
    "    <utasítás3><br />\n",
    "    <utasítás4>...<br />\n",
    "Ekkor az  `<utasítás1>`, `<utasítás2>`... csak akkor fog lefutni, ha a `<feltétel>` igaz. Ha pedig a feltétel nem teljesül, akkor az `<else>` ág fog lefutni.<br />\n",
    "Megadhatunk akár összetett feltételeket is a következő módon:<br />\n",
    "ÉS kapcsolat: `<feltetel1>` and `<feltetel2>` esetén mindkét feltételnek teljesülnie kell<br />\n",
    "VAGY kapcsolat: `<feltetel1>` or `<feltetel2>` esetén legalább az egyik feltételnek teljesülnie kell<br />\n",
    "\n",
    "**Példa: Korosztály meghatározása**<br />\n",
    "Tegyük fel, hogy van egy programunk, amely megvizsgálja a felhasználó életkorát, és ennek alapján kiírja, hogy a felhasználó melyik korosztályba tartozik.<br />"
   ]
  },
  {
   "cell_type": "code",
   "execution_count": null,
   "metadata": {},
   "outputs": [],
   "source": [
    "# Felhasználó életkorának beolvasása\n",
    "kor = int(input(\"Kérlek, add meg az életkorodat: \"))\n",
    "\n",
    "# Feltételes elágazás\n",
    "if kor >= 0 and kor <= 12:\n",
    "    print(\"Gyerek vagy.\")\n",
    "elif kor >= 13 and kor <= 17:\n",
    "    print(\"Tinédzser vagy.\")\n",
    "elif kor >= 18 and kor <= 64:\n",
    "    print(\"Felnőtt vagy.\")\n",
    "elif kor >= 65:\n",
    "    print(\"Nyugdíjas vagy.\")\n",
    "else:\n",
    "    print(\"Érvénytelen életkor.\")"
   ]
  },
  {
   "cell_type": "markdown",
   "metadata": {},
   "source": [
    "### **V.Objektum Orientált Programozás**\n",
    "1. ***Osztályok definiálása, konstruktor létrehozása:***\n",
    "\n",
    " - Az osztályaink Pythonban a `class` kulcsszóval hozhatóak létre a függvény definiáláshoz hasonlóan.\n",
    " - Az `__init__(self, egyébVáltozóink)` metódust használjuk konstruktor létrehozására."
   ]
  },
  {
   "cell_type": "code",
   "execution_count": null,
   "metadata": {},
   "outputs": [],
   "source": [
    "class myClass():\n",
    "  def __init__(self, valami=0):\n",
    "    self.tulajdonsagPublic = valami #ez egy publikus valtozo\n",
    "    self.__tulajdonsagPrivate = valami #ez egy privat valtozo"
   ]
  },
  {
   "cell_type": "markdown",
   "metadata": {},
   "source": [
    "2. ***Példányosítás:***\n",
    "- Az osztályokat az osztály nevét függvényként használva példányosíthatjuk. (\"Hozhatunk létre egy ilyen típusú változót\")\n",
    "- Ezek publikus adattagjait a \".\" operátorral érhetjük el."
   ]
  },
  {
   "cell_type": "code",
   "execution_count": null,
   "metadata": {},
   "outputs": [],
   "source": [
    "myInstance = myClass(\"tulajdonság\")\n",
    "\n",
    "print(myInstance.tulajdonsagPublic)"
   ]
  },
  {
   "cell_type": "markdown",
   "metadata": {},
   "source": [
    "- A privát változókat nem érhetjük el kivülről"
   ]
  },
  {
   "cell_type": "code",
   "execution_count": null,
   "metadata": {},
   "outputs": [],
   "source": [
    "print(myInstance.tulajdonsagPrivate)"
   ]
  },
  {
   "cell_type": "markdown",
   "metadata": {},
   "source": [
    "- Meghívhatjuk a konstruktort üresen is, ekkor a megadott kezdeti érték lesz az értéke a változóinknak az osztályban"
   ]
  },
  {
   "cell_type": "code",
   "execution_count": null,
   "metadata": {},
   "outputs": [],
   "source": [
    "myInstance2 = myClass()\n",
    "\n",
    "print(myInstance.tulajdonsagPublic)"
   ]
  },
  {
   "cell_type": "markdown",
   "metadata": {},
   "source": [
    "3. ***Saját metódus létrehozása:***\n",
    "\n",
    "- Az osztályainkhoz létrehozhatunk saját metódusokat is az alábbi formátumban: </br>\n",
    "`def myMethod(metódusBemenetiVáltozója):`"
   ]
  },
  {
   "cell_type": "code",
   "execution_count": null,
   "metadata": {},
   "outputs": [],
   "source": [
    "class myClass():\n",
    "  def __init__(self, valami=0):\n",
    "    self.data = valami\n",
    "  def metodus(self):\n",
    "    print('Tárolt adat típusa: ', type(self.data),\n",
    "          '\\nTárolt adat: ', self.data)"
   ]
  },
  {
   "cell_type": "code",
   "execution_count": null,
   "metadata": {},
   "outputs": [],
   "source": [
    "myInstance = myClass('hello')\n",
    "myInstance_2 = myClass()\n",
    "\n",
    "myInstance.metodus()\n",
    "myInstance_2.metodus()\n",
    "print(type(myInstance))"
   ]
  },
  {
   "cell_type": "markdown",
   "metadata": {},
   "source": [
    "- Létrehozhatunk metódusból is privátOt az alábbi módon:</br>\n",
    "`def __myMethod(metódusBemenetiVáltozója):`"
   ]
  },
  {
   "cell_type": "code",
   "execution_count": null,
   "metadata": {},
   "outputs": [],
   "source": [
    "class myClass():\n",
    "    def __init__(self, valami=0):\n",
    "        self.data = valami\n",
    "    def __metodus_private(self): #ez most egy privát metódus\n",
    "        print('Tárolt adat típusa: ', type(self.data),\n",
    "        '\\nTárolt adat: ', self.data)"
   ]
  },
  {
   "cell_type": "code",
   "execution_count": null,
   "metadata": {},
   "outputs": [],
   "source": [
    "myInstance = myClass('hello')\n",
    "myInstance_2 = myClass()\n",
    "\n",
    "myInstance.__metodus_private()\n",
    "myInstance_2.__metodus_private()\n",
    "print(type(myInstance))"
   ]
  },
  {
   "cell_type": "markdown",
   "metadata": {},
   "source": [
    "3. ***Operátor túlterhelés létrehozása:***\n",
    "- A saját osztályunkban lehetőségünk van, a műveleti jelek újradefiniálására is.</br>\n",
    "Ezt az adott műveletekre egyedi metódusokkal, úgynevezett \"magic method\"-okkal tehetjük meg.</br>\n",
    "Az alapműveletek varázs metódusai a következők:</br>\n",
    "`def __iadd__(metódusBemenetiVáltozója):` - összeadás</br>\n",
    "`def __isub__(metódusBemenetiVáltozója):` - kivonás</br>\n",
    "`def __imul__(metódusBemenetiVáltozója):` - szorzás</br>\n",
    "`def __idiv__(metódusBemenetiVáltozója):` - osztás</br>\n",
    "\n",
    "- Lehetőségünk van még ilyen módón az alapértelmezett függvények túlterhelésére is (az órai példában `__repr__` kulcsszó segítségével fogjuk a kiiratáshoz megfelelő túlterhelést megtenni).</br>\n",
    "[Ezeknek a teljes listája a linken található.](https://www.geeksforgeeks.org/operator-overloading-in-python/)"
   ]
  },
  {
   "cell_type": "code",
   "execution_count": null,
   "metadata": {},
   "outputs": [],
   "source": [
    "class Vector:\n",
    "    def __init__(self, x, y):\n",
    "        self.x = x\n",
    "        self.y = y\n",
    "\n",
    "    def __add__(self, other):\n",
    "        if isinstance(other, Vector):\n",
    "            return Vector(self.x + other.x, self.y + other.y)\n",
    "        else:\n",
    "            raise TypeError(\"Unsupported operand type(s) for +: '{}' and '{}'\".format(\n",
    "                type(self).__name__, type(other).__name__))\n",
    "\n",
    "    def __repr__(self):\n",
    "        return \"Vector({}, {})\".format(self.x, self.y)\n",
    "\n",
    "v1 = Vector(1, 2)\n",
    "v2 = Vector(3, 4)\n",
    "v3 = v1 + v2\n",
    "print(v3)"
   ]
  },
  {
   "cell_type": "markdown",
   "metadata": {},
   "source": [
    "4. Öröklés\n",
    "- Lehetőségünk van egy hierarchia kialakítására az osztályaink között. Ilyenkor a szülő osztály metódusait és változóit az utód osztály is megkapja.</br>\n",
    "- Az ősosztály legyen a következő:"
   ]
  },
  {
   "cell_type": "code",
   "execution_count": null,
   "metadata": {},
   "outputs": [],
   "source": [
    "class Sikelem():\n",
    "    def __init__(self, x, y):\n",
    "        self.x = x\n",
    "        self.y = y\n",
    "        self.kozeppont = (self.x, self.y)\n",
    "\n",
    "    def terulet(self):\n",
    "        return 0\n",
    "    def kozeppontFunction(self):\n",
    "        return self.x, self.y"
   ]
  },
  {
   "cell_type": "markdown",
   "metadata": {},
   "source": [
    "- Készítsük el az örökös osztályt:"
   ]
  },
  {
   "cell_type": "code",
   "execution_count": null,
   "metadata": {},
   "outputs": [],
   "source": [
    "class Teglalap(Sikelem): #öröklés\n",
    "    tipus = 'Téglalap'\n",
    "\n",
    "    def __init__(self, x = 0, y = 0, w = 0, h = 0):\n",
    "        super().__init__(x,y) # lehetne Sikelem.__init__(self,x,y) is\n",
    "        self.w = w\n",
    "        self.h = h\n",
    "    def terulet(self): # overload\n",
    "        return self.w * self.h\n",
    "    def print_data(self):\n",
    "        print('Téglalap adatok:\\nx0: ',self.x,\n",
    "            '\\ny0: ',self.y,\n",
    "            '\\nSzélesség: ', self.w,\n",
    "            '\\nMagasság: ',self.h,\n",
    "            '\\nTerület: ', self.terulet())"
   ]
  },
  {
   "cell_type": "markdown",
   "metadata": {},
   "source": [
    "- Példányosítsuk:"
   ]
  },
  {
   "cell_type": "code",
   "execution_count": null,
   "metadata": {},
   "outputs": [],
   "source": [
    "myTeglalap = Teglalap(1,2,10,20)\n",
    "myTeglalap.print_data()\n",
    "print(myTeglalap.tipus)"
   ]
  }
 ],
 "metadata": {
  "kernelspec": {
   "display_name": "base",
   "language": "python",
   "name": "python3"
  },
  "language_info": {
   "codemirror_mode": {
    "name": "ipython",
    "version": 3
   },
   "file_extension": ".py",
   "mimetype": "text/x-python",
   "name": "python",
   "nbconvert_exporter": "python",
   "pygments_lexer": "ipython3",
   "version": "3.11.5"
  }
 },
 "nbformat": 4,
 "nbformat_minor": 2
}
