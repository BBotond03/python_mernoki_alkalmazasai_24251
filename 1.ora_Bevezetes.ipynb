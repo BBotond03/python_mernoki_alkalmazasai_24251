{
 "cells": [
  {
   "cell_type": "markdown",
   "metadata": {},
   "source": [
    "# **Pyhon Mérnöki Alkalmazásai**\n",
    "\n",
    "#### **A kurzus célja:** Mindenki számára szeretnénk bemutatni, hogy milyen lehetőségek vannak a Python-ban, a kurzus során sokféle eszköz bemutatásra fog kerülni, a cél, hogy később ha szembe kerültök valamilyen mérnöki problémával legyen hova nyúlnotok.\n",
    "\n",
    "#### **Félév rendje**:\n",
    "1. *Bevezetés a Pythonba*\n",
    "2. *Filekezelés és Pandas*\n",
    "3. *Algoritmus elmélet*\n",
    "4. *ROS I.*\n",
    "5. *ROS II.*\n",
    "6. *Képfeldolgozás I.*\n",
    "7. *Képfeldolgozás II.*\n",
    "8. *Szünet*\n",
    "9. *Machine Learning*\n",
    "10. *Deep Learning I.*\n",
    "11. *Deep Learning II.*\n",
    "12. *Raspberry PI I.*\n",
    "13. *Raspberry PI II.*\n",
    "14. *Projekt bemutató óra*\n",
    "\n",
    "#### **Követelmények:** A félév teljesítésének egy nagy önálló projektfeladat leadása a feltétele. A feladatok a *7. héten* fognak kiírásra kerülni, minden témaköhez lesz feladat, valamint egyéni megbeszélés szerint egyéni feladatkitűzésre is sorkerülhet. \n",
    "\n",
    "#### **Munkakörnyezet telepítése:**"
   ]
  },
  {
   "cell_type": "markdown",
   "metadata": {},
   "source": [
    "# **Bevezetés a Pythonba**\n",
    "\n",
    "#### **Mi az a python?**\n",
    "- A python egy magas szintű, általános felhasználású, objektum orientált programozási nyelv. \n",
    "- A python függvények és objektumok C és C++ -ban vannak megírva és ilyen függvényekkel és osztályokkal könnyedén bővíthető.\n",
    "\n",
    "#### **Miért tanuld meg a Pythont?**\n",
    "- Könnyen megtanulható\n",
    "- Könnyen olvasható\n",
    "- Sok külsős könyvtár (pl.: SciPy, NumPy, Django, Pandas) -> sok felhasználásra jó\n",
    "- Számos DeepLearninges és MaschineLearnineg felhasználása van\n",
    "- Ha gyorsan kell írni valmit, vagy tesztelni kell valamit hasznos tud lenni"
   ]
  },
  {
   "cell_type": "markdown",
   "metadata": {},
   "source": [
    "#### **I. Változók és Arimetikai műveletek**\n",
    "\n",
    "Adatokat, mint minden más programozási nyelvben is, változókban tároljuk. \n",
    "A változók tulajdonságai:\n",
    "- Név: érdemes beszélő neveket használni. Ez például nem szerencsés változó név: `dkjfa`, ez egy szerencsésebb változónév `myApple`.\n",
    "- Típus: Pythonban minden változó osztályként létezik, ezen kívül úgynevezett 'dynamic type' -ot használ azaz nem szükséges megadni a változó tipusát deklarációkor. (Ezen kívül 'dynamic cast'-ra is lehetőség van)\n",
    "- Érték: Python nyelvben szinte akármit eltárolhatunk változókban: egész számokat, tizedes törteket, szöveget, de akár teljes grafikonokat, képeket, vagy komplett neurális háló modelleket is! "
   ]
  },
  {
   "cell_type": "code",
   "execution_count": 4,
   "metadata": {},
   "outputs": [
    {
     "name": "stdout",
     "output_type": "stream",
     "text": [
      "Az a változó értéke: 5 és típusa: <class 'int'>\n",
      "Az a változó értéke: -7.2 és típusa: <class 'float'>\n",
      "Az a változó értéke: [1, 2, 3] és típusa: <class 'list'>\n",
      "Az a változó értéke: szöveg és típusa: <class 'str'>\n",
      "Az a változó értéke: [1, 2, 3, 4, 5] és típusa: <class 'list'>\n"
     ]
    }
   ],
   "source": [
    "a = 5\n",
    "print(\"Az a változó értéke:\", a, \"és típusa:\", type(a))\n",
    "\n",
    "b = -7.2\n",
    "print(\"Az a változó értéke:\", b, \"és típusa:\", type(b))\n",
    "\n",
    "c = [1,2,3]\n",
    "print(\"Az a változó értéke:\", c, \"és típusa:\", type(c))\n",
    "\n",
    "d = \"szöveg\"\n",
    "print(\"Az a változó értéke:\", d, \"és típusa:\", type(d))\n",
    "\n",
    "e = [1,2,3,4,5]\n",
    "print(\"Az a változó értéke:\", e, \"és típusa:\", type(e))\n",
    "# Tömbök hossza\n",
    "print(\"A lista: \"{len(e) \"hosszú\")"
   ]
  },
  {
   "cell_type": "markdown",
   "metadata": {},
   "source": [
    "#### **II. Aritmetikai műveletek**\n",
    "\n",
    "Mint minden más programozási nyelvben, itt is van értékadó operátorunk. Ez az `=` ezen kívül van öszeadó `+` és kivonó `-` operátor is.\n",
    "Az érték változtató operátorokat rövídítve is használhatjuk.\n",
    "- `a = a + 1` -> `a += 1`\n",
    "- `a = a - 1` -> `a -= 1`"
   ]
  },
  {
   "cell_type": "code",
   "execution_count": null,
   "metadata": {},
   "outputs": [],
   "source": [
    "# Értékadás operátor\n",
    "a = 5\n",
    "print(\"Az a változó értéke:\",a)\n",
    "print(f\"Az a változó értéke: {a}\")\n",
    "\n",
    "# Érték növelése 2-vel\n",
    "a = a + 2               # Az a változó új értéke legyen egyenlő az előző érték + 2-vel!\n",
    "print(f\"Az a változó új értéke\",a)\n",
    "\n",
    "# Kicsit kompaktabban\n",
    "a += 2\n",
    "print(f\"Az a változó még újabb értéke\",a)"
   ]
  },
  {
   "cell_type": "markdown",
   "metadata": {},
   "source": [
    "### **III. Összetettebb aritmetikai műveletek (NumPy bevezetés)**\n",
    "\n",
    "A Pythonban sok beépítetten támogatott művelet van, azonban ha szeretnénk bonyolultabb műveleteket is végrehajtani (pl.: log(), sin() stb.) sok segítséget nyújthat nekünk a NumPy könyvtár. A könyvtár tartalmazza a MATLAB programozási nyelv szinte összes függvényét, azzonban azzal ellentétben ingyenesen hozzáférhető a legtöbb felhasználásra."
   ]
  },
  {
   "cell_type": "code",
   "execution_count": 3,
   "metadata": {},
   "outputs": [
    {
     "name": "stdout",
     "output_type": "stream",
     "text": [
      "^C\n"
     ]
    },
    {
     "name": "stdout",
     "output_type": "stream",
     "text": [
      "Requirement already satisfied: numpy in c:\\users\\biebe\\anaconda3\\lib\\site-packages (1.24.3)\n"
     ]
    }
   ],
   "source": [
    "#NumPy teleptése\n",
    "!pip install numpy"
   ]
  },
  {
   "cell_type": "markdown",
   "metadata": {},
   "source": [
    "A könyvtár használatához használnunk kell az ´import´ kulcsszót. Ezt a program elején elegendő egyszer megtenni. Ezzel lesz lehetőségünk később minden külsős dependancy meghívására."
   ]
  },
  {
   "cell_type": "code",
   "execution_count": null,
   "metadata": {},
   "outputs": [],
   "source": [
    "import numpy as np      # Importáljuk a numpy könyvtárat a futtatókörnyezetünkbe"
   ]
  },
  {
   "cell_type": "markdown",
   "metadata": {},
   "source": [
    "A matematikai eszköztárunkat ez lényegesen bővíti. Nézzünk meg néhány műveletet:"
   ]
  },
  {
   "cell_type": "code",
   "execution_count": null,
   "metadata": {},
   "outputs": [],
   "source": [
    "x = -6\n",
    "\n",
    "# Abszolút érték\n",
    "print(f\"Az x = {x} abszolút értéke {np.abs(x)}\")\n",
    "\n",
    "x = 5.5\n",
    "\n",
    "# Alsó és felső egészrész\n",
    "print(f\"Az x = {x} alsó egészrésze {np.floor(x)}\")\n",
    "print(f\"Az x = {x} felső egészrésze {np.ceil(x)}\")\n",
    "\n",
    "# Gyökvonás\n",
    "print(f\"Az x = {x} négyzetgyöke {np.sqrt(x)}\")\n",
    "print(f\"Az x = {x} négyzetgyöke {np.power(x,(1/3))}\")"
   ]
  },
  {
   "cell_type": "code",
   "execution_count": null,
   "metadata": {},
   "outputs": [],
   "source": [
    "x = np.pi/6\n",
    "\n",
    "# Trigonometrikus függvények\n",
    "print(f\"A sin(x) értéke: {np.sin(x)}\")       # ~ 1/2\n",
    "print(f\"A cos(x) értéke: {np.cos(x)}\")       # ~ sqrt(3)/2\n",
    "print(f\"A tan(x) értéke: {np.tan(x)}\\n\")     # ~ sqrt(3)/3\n",
    "\n",
    "# Inverz trigonometrikus függvények\n",
    "y = 0.5\n",
    "print(f\"Az arcsin(y) értéke: {np.arcsin(y)}\")                       # ~ pi/6 radián\n",
    "\n",
    "# Radián átváltása fokra\n",
    "print(f\"Az arcsin(y) értéke fokban: {np.rad2deg(np.arcsin(y))}\")    # pi/6 [rad] = 30 [°]"
   ]
  },
  {
   "cell_type": "code",
   "execution_count": null,
   "metadata": {},
   "outputs": [],
   "source": [
    "x = np.e**5\n",
    "print(x)\n",
    "\n",
    "# Természetes alapú logaritmus\n",
    "print(f\"Az ln(x) értéke: {np.log(x)}\")      # 5\n",
    "\n",
    "# 10-es alapú logaritmus\n",
    "print(f\"Az lg(x) értéke: {np.log10(x)}\")    # ~ 2.1 - 2.2"
   ]
  },
  {
   "cell_type": "markdown",
   "metadata": {},
   "source": []
  }
 ],
 "metadata": {
  "kernelspec": {
   "display_name": "base",
   "language": "python",
   "name": "python3"
  },
  "language_info": {
   "codemirror_mode": {
    "name": "ipython",
    "version": 3
   },
   "file_extension": ".py",
   "mimetype": "text/x-python",
   "name": "python",
   "nbconvert_exporter": "python",
   "pygments_lexer": "ipython3",
   "version": "3.11.5"
  }
 },
 "nbformat": 4,
 "nbformat_minor": 2
}
