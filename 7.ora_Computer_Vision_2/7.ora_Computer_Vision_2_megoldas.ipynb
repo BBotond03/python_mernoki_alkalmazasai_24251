{
 "cells": [
  {
   "attachments": {},
   "cell_type": "markdown",
   "metadata": {},
   "source": [
    "# 7. hét / Prológus"
   ]
  },
  {
   "attachments": {},
   "cell_type": "markdown",
   "metadata": {},
   "source": [
    "A mai órán a következő témaköröket fogjuk áttekinteni:\n",
    "- A 2D Konvolúció elméleti bevezetése\n",
    "- Élkeresés konvolúció segítségével (*Edge detection*)\n",
    "\n",
    "Választható témák:\n",
    "- Képszegmentáció K-Means Clustering algoritmus segítségével\n",
    "- Mozgó objektum detektálása (*Motion detection*)\n",
    "- Körök és tetszőleges geometriák detektálása (*Ridge detection* - *Hough transform*)\n",
    "\n",
    "Az, hogy az órán melyik feladatokat fogjuk áttekinteni azt a hallgatók döntésére bízom. A fenti témákból szabadon felállíthatnak a hallgatók a jelenléti órán egy sorrendet, amely alapján megoldjuk a feladatokat."
   ]
  },
  {
   "attachments": {},
   "cell_type": "markdown",
   "metadata": {},
   "source": [
    "# 7. hét / I. 2D Konvolúció"
   ]
  },
  {
   "attachments": {},
   "cell_type": "markdown",
   "metadata": {},
   "source": [
    "A **2D** (diszkrét) **konvolúció** egyike a legfontosabb műveleteknek, amellyel képfeldolgozás során találkozhatunk. Ezen a ponton már legtöbben találkozhattunk ennek *egydimenziós* változatával, amelyet a következő alakban szokás felírni:\n",
    "$$\\begin{equation*} y[k] = (u\\star w)[k] := \\sum_n u[k]w[n-k] \\end{equation*}$$\n",
    "Röviden fejtsük ki, hogy valójában milyen lényegi műveletet végzünk itt el! Adott nekünk egy $u[k]$ tetszőleges *bemeneti függvény*ünk és egy $w[k]$ *súlyfüggvény*ünk, amelyek értékeit egy megadott sorrendben összeszorozzuk. (Ne ijesszen meg bennünket az $[n-k]$ jelölés, ez tulajdonképpen azt jelenti, hogy amíg az $u[k]$ függvénnyel az időben előre felé haladunk, addig a $w[n-k]$ esetén annak $n$. elemétől visszafelé jövünk.) Tehát összefoglalva a *konvolúció* segítségével az $y[k]$ függvényt előállítom a **bemenet** gondosan megválasztott **súlyozott átlag**aként $(||w||_1 = 1)$, vagy **súlyozott összeg**eként $(||w||_1 \\neq 1)$. \n",
    "\n",
    "Kétdimenziós esetben is ugyanezzel a szemlélettel kell élnünk, csak a **bemenetünk** egy egyváltozós helyett *kétváltozós függvény* lesz, ez diszkrét esetben egy **mátrix** (programozás során egy kép), ugyanígy a **súlyfüggvény**, melyet itt **kernel**nek nevezünk is egy (az esetek túlnyomó többségében páratlan) rangú **négyzetes mátrix**, (leggyakrabban 3x3 és 5x5). Ekkor a konvolúció felírható, mint\n",
    "$$\\begin{equation*} y[x][y] = (K \\star u)[x][y] = \\sum_n \\sum_m K[n][m]\\cdot u[x-n][y-m]\\end{equation*}$$ \n",
    "\n",
    "<p align=\"center\">\n",
    "  <img width=\"60%\" src=\"2Dconvolution.png\" />\n",
    "</p>\n",
    "\n",
    "A *kernel*től függően *különböző hatásokat érhetünk el*. Alábbiakban rendre az *elhomályosítás*, *élesítés* és *éldetektálás* kerneleit láthatjuk:\n",
    "$$\\begin{equation*} \\mathbf{K}_1=\\dfrac{1}{9}\\begin{bmatrix} 1&1&1\\\\1&1&1\\\\1&1&1\\end{bmatrix}\\qquad \\mathbf{K}_2=\\begin{bmatrix} 0&-1&0\\\\-1&5&-1\\\\0&-1&0\\end{bmatrix}\\qquad  \\mathbf{K}_3=\\begin{bmatrix}-1&-1&-1\\\\-1&8&-1\\\\-1&-1&-1\\end{bmatrix}  \\end{equation*}$$\n",
    "\n",
    "A **konvolúció**(s neurális háló) úgynevezett (lokális) **feature extractor**, azaz a *megfelelő súlyok megválasztásával* lehetséges olyan programot írni, amely képes megtanulni és felismerni az emberi arc jellemzőit, amely felett könnyen implementálhatunk egy *arcfelismerő*t. Ugyanígy a konvolúció alapja az *image classification*nek, amely segítségével eldönthetjük, hogy egy képen milyen számjegyek vannak, milyen ruhadarabok, vagy ételek."
   ]
  },
  {
   "attachments": {},
   "cell_type": "markdown",
   "metadata": {},
   "source": [
    "### 1. példa - Élkeresés konvolúció segítségével\n",
    "Keressük meg az éleket a `bme.jpg` képen konvolúciós eljárás segítségével! A konvolúciós kernelek legyenek az alábbiak:\n",
    "$$\\begin{equation*} \\mathbf{K}_1=\\begin{bmatrix}-1&-1&-1\\\\-1&8&-1\\\\-1&-1&-1\\end{bmatrix}\\qquad \\mathbf{K}_2=\\begin{bmatrix} -1&0&1\\\\-1&0&1\\\\-1&0&1\\end{bmatrix}\\qquad  \\mathbf{K}_3=\\begin{bmatrix}-1&-1&-1\\\\0&0&0\\\\1&1&1\\end{bmatrix}  \\end{equation*}$$\n",
    "A $\\mathbf{K}_{2,3}$ kernelek az úgynevezett *Prewitt operátor*ok."
   ]
  },
  {
   "cell_type": "code",
   "execution_count": 46,
   "metadata": {},
   "outputs": [],
   "source": [
    "# Szükséges importok\n",
    "import cv2              # Képfeldolgozáshoz\n",
    "import numpy as np      # Kernel definiáláshoz\n",
    " \n",
    "# Beolvassuk a képet\n",
    "image = cv2.imread('bme.jpg')\n",
    " \n",
    "# Ha a képet nem találjuk, akkor hibát jelzünk\n",
    "if image is None:\n",
    "    print('Could not read image')\n",
    " \n",
    "# Definiáljunk a kerneleket\n",
    "kernel1 = np.array([[-1, -1, -1],\n",
    "                    [-1, 8, -1],\n",
    "                    [-1, -1, -1]])\n",
    "kernel2 = np.array([[-1, 0, 1],\n",
    "                    [-1, 0, 1],\n",
    "                    [-1, 0, 1]])\n",
    "kernel3 = kernel2.transpose()\n",
    "\n",
    "# Elkészítjük a maszkolt képet\n",
    "masked = cv2.filter2D(image, ddepth=-1, kernel=kernel1)\n",
    "masked2 = cv2.filter2D(image, ddepth=-1, kernel=kernel2)\n",
    "masked3 = cv2.filter2D(image, ddepth=-1, kernel=kernel3)\n",
    "\n",
    "# Megjelenítjük a képeket\n",
    "cv2.imshow('BME', image)\n",
    "cv2.imshow('K1', masked)\n",
    "cv2.imshow('K2', masked2)\n",
    "cv2.imshow('K3', masked3)\n",
    "\n",
    "# Tetszőleges kép lenyomásakor bezárjuk az ablakokat  \n",
    "cv2.waitKey()\n",
    "cv2.destroyAllWindows()"
   ]
  },
  {
   "attachments": {},
   "cell_type": "markdown",
   "metadata": {},
   "source": [
    "# 7. hét / II. Képszegmentáció K-means Clustering segítségével"
   ]
  },
  {
   "attachments": {},
   "cell_type": "markdown",
   "metadata": {},
   "source": [
    "A **képszegmentáció** lényege, hogy egy kép pixeleit úgynevezett **szegmensekbe** **csoportosítjuk** egy megadott szempont alapján. Például ha van egy utcaképünk, akkor a képen szeretnénk különválasztani a *gyalogos*okat az *úttest*től és az *épület*ektől. Ekkor a kép pixeleit három különböző (gyalogos, úttest, épület) szegmensbe soroljuk. Ezt jellemzően egy **komoly kihívást jelent**ő feladat, ugyanis gyakran a szegmenshatárok összefolynak és nehezen megkülönböztethetőek (Magdi nénin pont olyan mintájú nadrág van, mint a fali tapéta...), a képek gyakran zajjal terheltek, emellett az algoritmusok jelentős része összetett matematikai műveletekkel dolgozik, ezért nagyon számításigényes is a képszegmentáció. Leggyakrabban a következő eljárásokkal dolgozunk:\n",
    "- **Thresholding** alapú szegmentáció: a pixelek *intenzitása* alapján létrehozzuk a szegmenseket, ahova besoroljuk az egyes pixeleket. [GeeksforGeeks: Thresholding Segmentation](https://geeksforgeeks.org/thresholding-based-image-segmentation/)\n",
    "- **Edge-based** szegmentáció: megkeressük egy képen az éleket, és az általuk meghatározott zárt geometriák alkotják a szegmenseket. Elterjedt a *Canny edge detection*, *Sobel operator* és a *Roberts operator* alkalmazása ezen a területen. [Wiki: Canny edge detector](https://en.wikipedia.org/wiki/Canny_edge_detector) | [OpenCV: Canny Edge Detection](https://docs.opencv.org/3.4/da/d22/tutorial_py_canny.html)\n",
    "- **Clustering-based** szegmentáció: klaszterekbe osztjuk a hasonló intenzitású/színű/textúrájú, vagy akármilyen általunk megválasztott tulajdonságú pixeleket. Elterjedt a *K-means clustering*, *fuzzy C-means clustering* és a *hierarchical clustering*. [Wiki: k-Means clustering](https://en.wikipedia.org/wiki/K-means_clustering) | [OpenCV: cv2.kmeans()](https://docs.opencv.org/3.4/d1/d5c/tutorial_py_kmeans_opencv.html) | [OpenCV: Color Quantization](https://docs.opencv.org/3.4/d1/d5c/tutorial_py_kmeans_opencv.html)\n",
    "- Machine learning alapú algoritmusok.\n",
    "\n",
    "A *k-Means clustering* algoritmus működési elve:\n",
    "1. **Feladat**: Adott adathalmazt szeretnénk felosztani *k* darab szegmensre. \n",
    "2. **Inicializálás**: Az adathalmazban felveszük *k* darab **center**t *véletlenszerűen*.\n",
    "3. **Felosztás**: Ezt követően az adathalmaz összes elemét hozzárendeljünk a hozzá legközelebb eső *center*hez. Ezáltal kialakul *k* darab *cluster*.\n",
    "4. **Centerek újraszámítása**: Az előző lépésben kialakult clusterekben **átlagoljuk az elemeket**, így megkapjuk az **új center**eket.\n",
    "5. **Iteráció**: *Ismételjük a 3-4. lépéseket*. Az újonnan megkapott centerek segítségével *újra felosztjuk* az adathalmaz elemeit. A kialakult clustereket átlagoljuk és megkapjuk az újabb centereket.\n",
    "6. **Kilépési feltétel**: Addig iterálunk, míg a klaszter határok stabilak maradnak (azaz $\\varepsilon$ hibán belül mozognak az iterálás során, vagy egy meghatározott `MAX_ITER` határt el nem érünk). Ekkor megkapjuk a klasztereket, amik szegmensekre osztják a képet.\n",
    "\n",
    "<p align=\"center\">\n",
    "  <img width=\"60%\" src=\"fig_kMeans.png\" />\n",
    "</p>"
   ]
  },
  {
   "attachments": {},
   "cell_type": "markdown",
   "metadata": {},
   "source": [
    "### 2. példa / Képszegmentáció k-Means algoritmus segítségével\n",
    "\n",
    "Olvassunk be egy képet, és szegmentáljuk *szín* szerint $K=3,4,5$ részre!"
   ]
  },
  {
   "cell_type": "code",
   "execution_count": 43,
   "metadata": {},
   "outputs": [],
   "source": [
    "# Szükséges importok\n",
    "import cv2              # Képfeldolgozáshoz\n",
    "import numpy as np      # Típuskonverzióhoz\n",
    "\n",
    "# Beolvassuk a képet\n",
    "image = cv2.imread('sunflower.jpg')\n",
    "\n",
    "# Átrendezzük 3 oszlopba a kép tartalmát\n",
    "Z = image.reshape((-1,3))\n",
    "# Végzünk egy típuskonverziót, hogy alkalmazható legyen a k-Means\n",
    "Z = np.float32(Z)\n",
    "\n",
    "# Definiáljuk a clusterek számát\n",
    "K = 3\n",
    "\n",
    "# Definiáljuk a k-Means kritériumait: meddig fusson, hogyan induljon...\n",
    "criteria = (cv2.TERM_CRITERIA_EPS + cv2.TERM_CRITERIA_MAX_ITER, 10, 1.0)\n",
    "ret,label,center=cv2.kmeans(Z,K,None,criteria,10,cv2.KMEANS_RANDOM_CENTERS)\n",
    "\n",
    "# Visszaalakítjuk a képet, az eredeti dimenziójába\n",
    "center = np.uint8(center)\n",
    "res = center[label.flatten()]\n",
    "image_kmeans = res.reshape((image.shape))\n",
    "\n",
    "# Megjelenítjük a képet\n",
    "cv2.imshow('k-Means segmentation',image_kmeans)\n",
    "\n",
    "# Billentyű lenyomása után bezárjuk az ablakokat\n",
    "cv2.waitKey(0)\n",
    "cv2.destroyAllWindows()"
   ]
  },
  {
   "attachments": {},
   "cell_type": "markdown",
   "metadata": {},
   "source": [
    "# 7. hét / III. Mozgó objektumok detektálása"
   ]
  },
  {
   "attachments": {},
   "cell_type": "markdown",
   "metadata": {},
   "source": [
    "A **motion detection** egyike a képfeldolgozás legfontosabb irányainak, a jelen és jövő technológiája gyakorlatilag elképzelhetetlenné válik enélkül. Gondoljunk csak a legegyszerűbb riasztórendszerre, amely csak akkor és azokon a helyeken rögzíti az utcaképet, ha azon lényeges mozgás megfigyelhető. Ugyanígy eszünkbe juthatnak a különböző közlekedési eszközök, amelyek fel vannak szerelve védelmi rendszerekkel, így képesek detektálni a gyalogosokat, akadályokat. Orvostechnikai alkalmazásokat is szép számmal említhetünk, különösképp a járásvizsgálatot, de akár ha az ipari automatizálásra gondolunk, akkor is kiderül, hogy mennyire fontos dologról van szó.\n",
    "\n",
    "Alkalmazástól függően az alábbi eljárásokat használhatjuk mozgásdetektálásra:\n",
    "- **Frame differencing**: videórögzítés során képezzük az aktuális és a közvetlen előző képkockák *különbség*ét, amelyből kirajzolódik a mozgás.\n",
    "- **Optical Flow**: a videón található objektumok mozgását próbáljuk becsülni, közelíteni az *elmozdulásvektor*ok és/vagy *sebességmező* segítségével. [Wiki: Optical Flow](https://en.wikipedia.org/wiki/Optical_flow#:~:text=Optical%20flow%20or%20optic%20flow,brightness%20pattern%20in%20an%20image.) | [OpenCV: Optical Flow](https://docs.opencv.org/3.4/d4/dee/tutorial_optical_flow.html)\n",
    "- Machine Learning alapú megoldások.\n",
    "\n",
    "Mi alapvetően a *Frame differencing* eljárással fogunk megismerkedni, révén ez egy nagyon egyszerű és könnyen implementálható algoritmus. Érdemes megjegyezni, hogy a fentebb említett eljárások mind széles körben alkalmazottak, mindig a feladattól függ, hogy mit érdemes használni!"
   ]
  },
  {
   "attachments": {},
   "cell_type": "markdown",
   "metadata": {},
   "source": [
    "### 3. példa - Mozgásdetektálás\n",
    "\n",
    "Implementáljuk a *frame differencing* algoritmust a videókameránk képére!"
   ]
  },
  {
   "cell_type": "code",
   "execution_count": 1,
   "metadata": {},
   "outputs": [],
   "source": [
    "# Szükséges importok\n",
    "import cv2          # Az alapvető képfeldolgozáshoz\n",
    "import numpy as np  # A matematikai műveletkhez\n",
    "\n",
    "# Elindítjuk a videókamerát\n",
    "vid = cv2.VideoCapture(0)\n",
    "\n",
    "# Segédváltozó\n",
    "previous_frame = None\n",
    "\n",
    "# Amíg be nem zárjuk az alkalmazásablakot...\n",
    "while True:\n",
    "  # Beolvassuk a videókamerából a képet:\n",
    "  ret, frame = vid.read()\n",
    "\n",
    "  # Áttérünk szürkeárnyalatos képre és alkalmazunk egy blurt\n",
    "  prepared_frame = cv2.cvtColor(frame, cv2.COLOR_RGB2GRAY)\n",
    "  prepared_frame = cv2.GaussianBlur(prepared_frame, (5,5), 0)\n",
    "\n",
    "  # Kiszámítjuk az előző képhez képesti különbségeket:\n",
    "  if (previous_frame is None):\n",
    "    # Az első képkocka előtt még nincs korábbi\n",
    "    previous_frame = prepared_frame\n",
    "    continue\n",
    "\n",
    "  # Megnézzük (abszolút értékben) a két kép közötti különbséget \n",
    "  diff_frame = cv2.absdiff(previous_frame,prepared_frame)\n",
    "\n",
    "  # A mostani képkocka a következő ciklusban az előző képkocka lesz\n",
    "  previous_frame = prepared_frame\n",
    "\n",
    "  # Dilatáció segítségével kiemeljük a változást\n",
    "  diff_frame = cv2.dilate(diff_frame, np.ones((5,5)), 1)\n",
    "\n",
    "  # Csak a kellően nagy eltéréseket szeretnénk megjeleníteni, ezért thresholdolunk\n",
    "  thresh_frame = cv2.threshold(diff_frame, thresh=20, maxval=255,\n",
    "                              type=cv2.THRESH_BINARY)[1]\n",
    "\n",
    "  # A különbség kontúrvonalai megmutatják a különbségeket\n",
    "  contours, _ = cv2.findContours(thresh_frame, mode=cv2.RETR_EXTERNAL,\n",
    "                                method=cv2.CHAIN_APPROX_SIMPLE)\n",
    "  cv2.drawContours(frame, contours=contours, contourIdx=-1,\n",
    "                  color=(255, 255, 0), thickness=2, lineType=cv2.LINE_AA)\n",
    "\n",
    "  # Megjelenítjük a kontúrvonalakkal ellátott képet\n",
    "  cv2.imshow('frame', frame)\n",
    "  cv2.imshow('diff_frame', diff_frame)\n",
    "  cv2.imshow('prepared_frame', prepared_frame)\n",
    "\n",
    "  # ESC gomb lenyomására kilépünk  \n",
    "  if (cv2.waitKey(30) == 27):\n",
    "      break\n",
    "\n",
    "# Bezárjuk az alkalmazásablakot\n",
    "cv2.destroyAllWindows()\n",
    "\n",
    "# Megszíktjuk a videókamera használatát\n",
    "vid.release()"
   ]
  },
  {
   "attachments": {},
   "cell_type": "markdown",
   "metadata": {},
   "source": [
    "# 7. hét / IV. Körök és tetszőleges geometriák detektálása"
   ]
  },
  {
   "attachments": {},
   "cell_type": "markdown",
   "metadata": {},
   "source": [
    "A következőkben azt fogjuk áttekinteni, hogyan tudunk köröket és egyéb geometriákat detektálni a képen. Legyen szó arról, hogy az önvezető autónak kell egy sávtartó algoritmushoz az útburkolati jeleket (például a felező- és záróvonalat, de akár a zebrát vagy közlekedési táblákat) felismerni, vagy éppen egy röntgenfelvételen szeretnénk a megfelelő csontokat felismerni, az úgynevezett *Ridge detecion* kiemelt szerepet kap a képfeldolgozásban. \n",
    "\n",
    "Ezen a területen alapvetően az alábbi két eljárást alkalmazzák:\n",
    "- Az (általánosított) **Hough transzformáció**t (GHT), amelynek mi egy speciális esetével, a *Circle Hough Transform*mal fogunk megismerkedni [Wiki: Circle Hough Transform](https://en.wikipedia.org/wiki/Circle_Hough_Transform),\n",
    "- Illetve az (általánosított) **Struktúra tenzor**t. [Wiki: Structure Tensor](https://en.wikipedia.org/wiki/Structure_tensor)\n",
    "\n",
    "Mivel a *struktúra tenzor*ok megértéséhez komolyabb matematikai apparátusra lenne szükség, ezért a kurzus keretein belül nem fogjuk tárgyalni. Amit érdemes róla megjegyezni, hogy az úgynevezett *gradiens*ek segítségével dolgozik, ergó többváltozós függvények heves deriválásából és integrálásából áll. Viszont mindkét eljárás nagyon elterjedt, ezért alább összefoglalom az egyes algoritmusok előnyeit és hátrányait.\n",
    "\n",
    "A *Hough-transzformáció* **előnyei**:\n",
    "- Sokkal **robosztus**abb, és a *struktúra tenzor*ral szemben **nem érzékeny** a **zajra** (mely zaj a deriválásnál jelent problémát);\n",
    "- **Globálisan** képes megtalálni az optimális megoldásokat, azaz mindig figyelembe veszi a kép teljes egészét;\n",
    "- Gyakorlatilag tetszőlegesen bonyolult görbéket képes megtalálni.\n",
    "\n",
    "A *Struktúra tenzor* **előnyei**:\n",
    "- Lényegesen **kisebb** a **számítási igénye** a *Hough-transzformáció*hoz képest. Sokkal gyorsabban és kisebb memórián is futtatható algoritmus;\n",
    "- **Lokálisan** képes megtalálni a megoldásokat, azaz **pontosabb** és **részletesebb** információ nyerhető ki belőle;\n",
    "- Mivel lokálisan akar jellemzőket detektálni, ezért **flexibilis**, tetszőleges méretű és alakú képre alkalmazható.\n",
    "\n",
    "Így ha adott a kérdés, hogy mikor melyiket használjuk, a válasz: **attól függ!**"
   ]
  },
  {
   "attachments": {},
   "cell_type": "markdown",
   "metadata": {},
   "source": [
    "### 4. példa - Körök detektálása\n",
    "Olvassuk be a videókamera képét és detektáljunk rajta köröket!"
   ]
  },
  {
   "cell_type": "code",
   "execution_count": 45,
   "metadata": {},
   "outputs": [],
   "source": [
    "# Szükséges importok\n",
    "import cv2\t\t\t\t# Képfeldolgozáshoz\n",
    "import numpy as np\t\t# Alapvető numerikus műveletkhez\n",
    "\n",
    "# Kérjük be a videókamera képét\n",
    "vid = cv2.VideoCapture(0)\n",
    "\n",
    "# Amíg be nem zárjuk az alkalmazást...\n",
    "while(True):\n",
    "\t# Beolvassuk a kamerából a képkockát\n",
    "\tret, frame = vid.read()\n",
    "\n",
    "\t# A képfeldolgozást megkönnyítendő, szürkeárnyalatos képet készítünk\n",
    "\tgray = cv2.cvtColor(frame, cv2.COLOR_RGB2GRAY)\n",
    "\n",
    "\t# A zajt csökkentendő elmosást alkalmazunk\n",
    "\tgray_b = cv2.blur(gray,(11,11))\n",
    "\n",
    "\t# Hough Transzformáció; visszatérési értékei: a kör középpontja (a,b) és sugara (r)\n",
    "\tdetect_circles = cv2.HoughCircles(gray_b,cv2.HOUGH_GRADIENT,1,20,param1=50\n",
    "\t\t\t\t   ,param2=30,minRadius=1,maxRadius=40)\n",
    "\n",
    "\t# Ha találtunk köröket...\n",
    "\tif detect_circles is not None:\n",
    "\t\t# Beolvassuk egyesével a köröket\n",
    "\t\tfor pt in detect_circles[0,:]:\n",
    "\t\t\t# Típuskonverziók\n",
    "\t\t\ta,b,r = np.uint16(pt[0]),np.uint16(pt[1]),np.uint16(pt[2])\n",
    "\n",
    "\t\t\t# A detektált kört pirossal jelöljük\n",
    "\t\t\tcv2.circle(frame,(a,b),r,(0,0,255),2)\n",
    "\n",
    "\t\t\t# A kör középpontját zölddel\n",
    "\t\t\tcv2.circle(frame,(a,b),1,(0,255,0),3)\n",
    "\t\n",
    "\t# Megjelenítjük a körökkel ellátott képet\n",
    "\tcv2.imshow(\"frame\",frame)\t\n",
    "\n",
    "\t# A 'q' gomb megnyomására \n",
    "\tif cv2.waitKey(1) & 0xFF == ord('q'):\n",
    "\t    break\n",
    "\n",
    "# Megszüntetjük a kamerakép használatát\n",
    "vid.release()\n",
    "\n",
    "# Bezárjuk az alkalmazásablakot\n",
    "cv2.destroyAllWindows()"
   ]
  },
  {
   "cell_type": "markdown",
   "metadata": {},
   "source": [
    "# 7.hét / Epilógus"
   ]
  },
  {
   "cell_type": "markdown",
   "metadata": {},
   "source": [
    "### Hasznos anyagok:"
   ]
  },
  {
   "cell_type": "markdown",
   "metadata": {},
   "source": [
    "- Dokumentációk\n",
    "    - Python hivatalos dokumentációja: https://docs.python.org/3/\n",
    "    - [PEP 8](https://peps.python.org/pep-0008/) Style Guide for Python Code - Melyek a jó és rossz programozási praktikák\n",
    "    - NumPy hivatalos dokumentációja: https://numpy.org/doc/1.25/\n",
    "- Tankönyvek\n",
    "    - [Dive Into Python 3](http://diveintopython3.problemsolving.io/)\n",
    "    - [Dive into Deep Learning](https://d2l.ai/) - Interaktív tankönyv Deep Learninghez\n",
    "    - [Fluent Python: Clear, Concise, and Effective Programming by Luciano Ramalho](https://www.oreilly.com/library/view/fluent-python/9781491946237/) - Haladóbb szemléletű Python programozás\n",
    "- Útmutatók\n",
    "    - [The Official Python Tutorial](https://docs.python.org/3/tutorial/) - Self-explanatory?\n",
    "    - [Foglalt Keyword lista](https://docs.python.org/3.0/reference/lexical_analysis.html#id8) - Ezeket ne használd változónévnek!\n",
    "    - [Codecademy](https://www.codecademy.com/catalog) - Interaktív (fizetős) online tutorial\n",
    "    - [CheckIO](https://py.checkio.org/) - Tanulj Pythont játékfejlesztésen kersztül\n",
    "- Competitive Programming\n",
    "    - [Codewars](https://www.codewars.com/?language=python)\n",
    "    - [CodeForces](https://codeforces.com/)"
   ]
  },
  {
   "cell_type": "markdown",
   "metadata": {},
   "source": [
    "### Elérhetőség"
   ]
  },
  {
   "cell_type": "markdown",
   "metadata": {},
   "source": [
    "Bármilyen kérdés, kérés vagy probléma esetén keressetek minket az alábbi elérhetőségeken:\n",
    "- Monori Bence - m.bence02@outlook.hu\n",
    "- Wenesz Dominik - weneszdominik@gmail.com\n",
    "\n",
    "Illetve anonim üzenetküldésre is lehetőséget biztosítunk, ezt az alábbi linken tudjátok elérni: https://forms.gle/6VtGvhja3gq6CTT66"
   ]
  }
 ],
 "metadata": {
  "kernelspec": {
   "display_name": "Python 3",
   "language": "python",
   "name": "python3"
  },
  "language_info": {
   "codemirror_mode": {
    "name": "ipython",
    "version": 3
   },
   "file_extension": ".py",
   "mimetype": "text/x-python",
   "name": "python",
   "nbconvert_exporter": "python",
   "pygments_lexer": "ipython3",
   "version": "3.10.5"
  },
  "orig_nbformat": 4
 },
 "nbformat": 4,
 "nbformat_minor": 2
}
