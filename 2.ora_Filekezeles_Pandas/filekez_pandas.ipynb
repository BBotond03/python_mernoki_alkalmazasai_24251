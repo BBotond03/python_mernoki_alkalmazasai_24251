{
 "cells": [
  {
   "cell_type": "markdown",
   "metadata": {},
   "source": [
    "# Filekezelés és Pandas"
   ]
  },
  {
   "cell_type": "markdown",
   "metadata": {},
   "source": [
    "## *Filekezelés*"
   ]
  },
  {
   "cell_type": "markdown",
   "metadata": {},
   "source": [
    "### **Miért fontos?**"
   ]
  },
  {
   "cell_type": "markdown",
   "metadata": {},
   "source": [
    "- A mérnöki munka során a nagy adathalmazokat nyakran kapunk, és kell őket kezelnünk\n",
    "- Memóriában nem tudunk nagy méretű adatokathalmazokat tárolni *Megoldás*: fájlokba mentés\n",
    "- szenzorokból adatokat beolvasott adatokat file-okba logoljuk"
   ]
  },
  {
   "cell_type": "markdown",
   "metadata": {},
   "source": [
    "### **Leggyakoribb fájlformátumok:**"
   ]
  },
  {
   "cell_type": "markdown",
   "metadata": {},
   "source": [
    "1. **INI (Initialization File)**:\n",
    "   - Az INI fájl egy egyszerű szöveges fájlformátum, amelyet gyakran konfigurációs fájlok tárolására használnak Windows alapú rendszerekben.\n",
    "   - Az INI fájlok hierarchikus struktúrában tárolják az adatokat, kulcs-érték párokat használva, amelyek szekciókba rendezhetők.\n",
    "   - A fájl kiterjesztése általában \".ini\".\n",
    "\n",
    "2. **JSON (JavaScript Object Notation)**:\n",
    "   - JSON egy könnyen olvasható, adatcsereformátum, amelyet gyakran használnak a webes alkalmazásokban.\n",
    "   - Általában strukturált adatokat tárol, például objektumokat és listákat.\n",
    "   - Az adatokat párokban tárolja, amelyek kulcs-érték párként vannak meghatározva.\n",
    "   - A fájl kiterjesztése általában \".json\".\n",
    "\n",
    "3. **YAML (régen: Yet Another Markup Language, most: YAML Ain't Markup Language)**:\n",
    "   - YAML egy ember- és gépelolvasásra is alkalmas adatátviteli formátum, amely könnyen olvasható és írható.\n",
    "   - Támogatja a hierarchikus adatstruktúrákat és a listákat.\n",
    "   - A YAML-t gyakran konfigurációs fájlokban és adatleíróban használják, különösen fejlesztői környezetekben.\n",
    "   - A fájl kiterjesztése általában \".yaml\" vagy \".yml\".\n",
    "\n",
    "4. **CSV (Comma-Separated Values)**:\n",
    "   - CSV egy egyszerű és gyakran használt táblázatformátum, amely szöveges fájlban tárolja a táblázatos adatokat.\n",
    "   - Az adatokat vesszők vagy más elválasztók választják el egymástól.\n",
    "   - A CSV fájlok rendkívül elterjedtek, különösen adatimportálás és -exportálás során.\n",
    "   - A fájl kiterjesztése általában \".csv\".\n",
    "\n",
    "5. **Feather**:\n",
    "   - Feather egy bináris tárolási formátum, amely táblázatos adatok tárolására szolgál.\n",
    "   - Feather fájlok gyors beolvasást és írást tesznek lehetővé, különösen Python és R nyelven.\n",
    "   - Egyik előnye, hogy a fájlok közvetlenül a memóriába olvashatók, így nagy adatmennyiségek hatékony kezelésére alkalmasak.\n",
    "   - A fájl kiterjesztése általában \".feather\".\n"
   ]
  },
  {
   "cell_type": "markdown",
   "metadata": {},
   "source": [
    "### **Fileok írása és olvasása:**"
   ]
  },
  {
   "cell_type": "markdown",
   "metadata": {},
   "source": [
    "Pythonban a `with open(\"file_nev\", \"tipus\")`, függvénnyel nyithatjuk meg a saját fájlainkat,</br>\n",
    "A következő lehetőségeink vannak file megnyitásra:\n",
    "1. **\"r\"**: Olvasási mód. Megnyitja a fájlt olvasásra. Hibaüzenetet dob, ha a fájl nem létezik.\n",
    "2. **\"w\"**: Írási mód. Megnyitja a fájlt írásra. Új fájlt hoz létre, ha nem létezik, vagy felülírja</br>\n",
    " a fájlt, ha már létezik.\n",
    "3. **\"a\"**: Hozzáfűző mód. Megnyitja a fájlt írásra, adatot fűzve a fájl végéhez. Új fájlt hoz létre,</br>\n",
    " ha nem létezik.\n",
    "4. **\"r+\"**: Olvasási és írási mód. Megnyitja a fájlt olvasásra és írásra egyaránt. Hibaüzenetet dob,</br>\n",
    " ha a fájl nem létezik.\n",
    "5. **\"w+\"**: Írási és olvasási mód. Megnyitja a fájlt olvasásra és írásra. Új fájlt hoz létre, ha nem létezik,</br>\n",
    " vagy felülírja a fájlt, ha már létezik.\n"
   ]
  },
  {
   "cell_type": "markdown",
   "metadata": {},
   "source": [
    "#### ***File írása:***"
   ]
  },
  {
   "cell_type": "code",
   "execution_count": null,
   "metadata": {},
   "outputs": [],
   "source": [
    "with open('data.txt', 'w') as f:\n",
    "    data = 'valami adat, amit a file-ba írunk'\n",
    "    f.write(data)"
   ]
  },
  {
   "cell_type": "markdown",
   "metadata": {},
   "source": [
    "#### ***File olvasása:***"
   ]
  },
  {
   "cell_type": "markdown",
   "metadata": {},
   "source": [
    "*Egyben:*"
   ]
  },
  {
   "cell_type": "code",
   "execution_count": null,
   "metadata": {},
   "outputs": [],
   "source": [
    "with open('data.txt', 'r') as f:\n",
    "    data = f.read()"
   ]
  },
  {
   "cell_type": "markdown",
   "metadata": {},
   "source": [
    "*Soronként:* (`readline()` függvénnyel; figyelni kell, hogy nagyobb file-oknál nem mindig működik)"
   ]
  },
  {
   "cell_type": "code",
   "execution_count": null,
   "metadata": {},
   "outputs": [],
   "source": [
    "file = open(\"data.txt\",\"r\")\n",
    "line = file.readline()\n",
    "print(line)"
   ]
  },
  {
   "cell_type": "markdown",
   "metadata": {},
   "source": [
    "### **File-ok elérése:**"
   ]
  },
  {
   "cell_type": "markdown",
   "metadata": {},
   "source": [
    "*Adott mappa adatainak listázása:*</br>\n",
    "- Szükséges eszközeink az \"os\" könyvtárban találhatjuk\n",
    "- Amikor az `alisdir()` vagy `scandir()` függvénynek egy '.'-ot adunk argumentumként, akkor a függvény a jelenlegi munkakönyvtárban lévő fájlokat és könyvtárakat fogja felsorolni, visszaadva azokat abszolút elérési útvonalukkal együtt."
   ]
  },
  {
   "cell_type": "markdown",
   "metadata": {},
   "source": [
    "*File-ok olvasása root-ban:* (`scandir()`-rel)"
   ]
  },
  {
   "cell_type": "code",
   "execution_count": null,
   "metadata": {},
   "outputs": [],
   "source": [
    "import os\n",
    "\n",
    "entries = os.scandir(\"/\")\n",
    "\n",
    "for entry in entries:\n",
    "    print(entry.name)"
   ]
  },
  {
   "cell_type": "markdown",
   "metadata": {},
   "source": [
    "*File-ok olvasása jelenlegi mappában* (`scandir()`-rel):"
   ]
  },
  {
   "cell_type": "code",
   "execution_count": null,
   "metadata": {},
   "outputs": [],
   "source": [
    "entries = os.scandir(\".\")\n",
    "\n",
    "for entry in entries:\n",
    "    print(entry.name)"
   ]
  },
  {
   "cell_type": "markdown",
   "metadata": {},
   "source": [
    "*File-ok olvasása jelenlegi mappában* (`listdir()`-rel):"
   ]
  },
  {
   "cell_type": "code",
   "execution_count": null,
   "metadata": {},
   "outputs": [],
   "source": [
    "entries = os.listdir(\".\")\n",
    "\n",
    "print(entries)"
   ]
  },
  {
   "cell_type": "markdown",
   "metadata": {},
   "source": [
    "*Almappák listázása:*\n",
    "- `os.scandir()` -t használhatjuk"
   ]
  },
  {
   "cell_type": "code",
   "execution_count": null,
   "metadata": {},
   "outputs": [],
   "source": [
    "basepath = '/'\n",
    "for entry in os.scandir(basepath):\n",
    "    if os.path.isdir(os.path.join(basepath, entry)):\n",
    "        print(entry)"
   ]
  },
  {
   "cell_type": "markdown",
   "metadata": {},
   "source": [
    "### **File tulajdonságok elérése:**"
   ]
  },
  {
   "cell_type": "code",
   "execution_count": null,
   "metadata": {},
   "outputs": [],
   "source": [
    "with os.scandir('/') as dir_contents:\n",
    "    for entry in dir_contents:\n",
    "        info = entry.stat() #.stat metodus informaciot gyujt minden konyvtarrol\n",
    "        print(info.st_mtime) #az st_mtime kiirja a modositasi idot (UNIX timestamp), olvashatova teheto a datetime.fromtimestamp()"
   ]
  },
  {
   "cell_type": "markdown",
   "metadata": {},
   "source": [
    "### **Könyvtár létrehozása:**"
   ]
  },
  {
   "cell_type": "markdown",
   "metadata": {},
   "source": [
    "Az ***os*** osztályunk `mkdir()` metódusával hozhatunk létre új könyvtárakat"
   ]
  },
  {
   "cell_type": "code",
   "execution_count": null,
   "metadata": {},
   "outputs": [],
   "source": [
    "os.mkdir('example_directory/')"
   ]
  },
  {
   "cell_type": "markdown",
   "metadata": {},
   "source": [
    "*Nézzük meg, hogy létrejött-e:*"
   ]
  },
  {
   "cell_type": "code",
   "execution_count": null,
   "metadata": {},
   "outputs": [],
   "source": [
    "entries = os.scandir(\"./example_directory/\")\n",
    "\n",
    "for entry in entries:\n",
    "    print(entry.name)\n",
    "# nem kapunk errort mert létezik a mappa amit létrehoztunk, de nincs benne semmi"
   ]
  },
  {
   "cell_type": "markdown",
   "metadata": {},
   "source": [
    "### **Szűrés file név alapján:**"
   ]
  },
  {
   "cell_type": "markdown",
   "metadata": {},
   "source": [
    "az `endswith()` függvényt használhatjuk ***wildcard*** helyett (wildcard: helyettesítő karakter)"
   ]
  },
  {
   "cell_type": "code",
   "execution_count": null,
   "metadata": {},
   "outputs": [],
   "source": [
    "for entry in os.scandir('/'):\n",
    "    if entry.name.endswith('.sys'):\n",
    "        print(entry.name)"
   ]
  },
  {
   "cell_type": "markdown",
   "metadata": {},
   "source": [
    "*wildcard-dal*:"
   ]
  },
  {
   "cell_type": "code",
   "execution_count": null,
   "metadata": {},
   "outputs": [],
   "source": [
    "import fnmatch\n",
    "\n",
    "for file in os.scandir('.'):\n",
    "    if fnmatch.fnmatch(file.name, 'd*.csv'):\n",
    "        print(file.name)"
   ]
  },
  {
   "cell_type": "markdown",
   "metadata": {},
   "source": [
    "### **Fájlok bezárása:**</br>\n",
    "A fájlokat a .close() függvényünkkel zárhatjuk be. (mindig meg kell tenni)"
   ]
  },
  {
   "cell_type": "code",
   "execution_count": null,
   "metadata": {},
   "outputs": [],
   "source": [
    "f.close()"
   ]
  },
  {
   "cell_type": "markdown",
   "metadata": {},
   "source": [
    "### **Egyéb fájlműveletek:**"
   ]
  },
  {
   "cell_type": "markdown",
   "metadata": {},
   "source": [
    "1. **`os.remove(path)`**:\n",
    "    - Ez a parancs törli a megadott elérési útvonalon lévő fájlt.\n",
    "    - A `path` paraméter az eltávolítani kívánt fájl elérési útvonala.\n",
    "\n",
    "2. **`os.rename(src, dst)`**:\n",
    "    - Ez a parancs átnevezi vagy áthelyezi a megadott forrásfájlt vagy könyvtárat az új cél elérési útvonalra.\n",
    "    - A `src` paraméter az eredeti fájl vagy könyvtár elérési útvonala, a `dst` pedig az új elérési útvonal.\n",
    "\n",
    "3. **`shutil.copy(src, dst)`**:\n",
    "    - Ez a parancs másol egy fájlt a megadott forrás és cél elérési útvonalak között.\n",
    "    - A `src` paraméter az eredeti fájl elérési útvonala, a `dst` pedig az új fájl helye.\n",
    "\n",
    "4. **`shutil.copy2(src, dst)`**:\n",
    "    - Ez a parancs hasonló a `shutil.copy()` parancshoz, azonban megőrzi az eredeti fájl metaadatokat, például a létrehozási és módosítási időt.\n",
    "    - A `src` paraméter az eredeti fájl elérési útvonala, a `dst` pedig az új fájl helye.\n",
    "\n",
    "5. **`shutil.copytree(src, dst)`**:\n",
    "    - Ez a parancs rekurzívan másol egy teljes könyvtárat, beleértve az összes alkönyvtárat és fájlt, a megadott forrás és cél elérési útvonalak között.\n",
    "    - A `src` paraméter az eredeti könyvtár elérési útvonala, a `dst` pedig az új könyvtár helye.\n",
    "\n",
    "6. **`shutil.move(src, dst)`**:\n",
    "    - Ez a parancs átnevezi vagy áthelyezi egy fájlt vagy könyvtárat a megadott forrás és cél elérési útvonalak között.\n",
    "    - A `src` paraméter az eredeti fájl vagy könyvtár elérési útvonala, a `dst` pedig az új elérési útvonal.\n"
   ]
  },
  {
   "cell_type": "markdown",
   "metadata": {},
   "source": [
    "## *Pandas (Panel Data and Python Data Analysis):*"
   ]
  },
  {
   "cell_type": "markdown",
   "metadata": {},
   "source": [
    "### **Mire jó? Mikor használjuk?**"
   ]
  },
  {
   "cell_type": "markdown",
   "metadata": {},
   "source": [
    "- A pandas könyvtár egyszerű és hatékony módot kínál ***fájlműveletek végrehajtására***, ***adattisztításra***, ***szűrésre***, ***statisztikai elemzésekre*** és ***adatvizualizációk létrehozására***.\n",
    "- A könyvtár számos funkciót és eszközt kínál statisztikai műveletekre és adatmanipulációra\n",
    "- Célunk, hogy megkönnyítsük az adatmanipulációt és -elemzés folyamtát, és csak a lényegi információra kelljen fókuszálnunk\n",
    "\n"
   ]
  },
  {
   "cell_type": "markdown",
   "metadata": {},
   "source": [
    "### **Telepítése és használata Python környezetünkbe:**"
   ]
  },
  {
   "cell_type": "markdown",
   "metadata": {},
   "source": [
    "*Telepítés hagyományos Python környezetben:*</br>\n",
    "`pip install pandas`\n",
    "*Telepítés ***Anaconda*** környezetben:*\n",
    "`conda install -c conda-forge pandas`"
   ]
  },
  {
   "cell_type": "markdown",
   "metadata": {},
   "source": [
    "A `pandas` függvényeit az alábbi paranccsal érhetjük el:"
   ]
  },
  {
   "cell_type": "code",
   "execution_count": null,
   "metadata": {},
   "outputs": [],
   "source": [
    "import pandas as pd"
   ]
  },
  {
   "cell_type": "markdown",
   "metadata": {},
   "source": [
    "### **Pandas alapfogalmak:**"
   ]
  },
  {
   "cell_type": "markdown",
   "metadata": {},
   "source": [
    "#### ***Series:*** \n",
    "- egydimenziós adatszerkezet\n",
    "- rugalmas eszköz adatok tárolására és kezelésére\n",
    "- számos beépített eszközzel rendelkezik\n",
    "- létrehozhatjuk mind listából, mind szótárból\n",
    "- létrehozó *'konstruktora'* a `pd.Series(adat)`"
   ]
  },
  {
   "cell_type": "markdown",
   "metadata": {},
   "source": [
    "*Listából létrehozva*:"
   ]
  },
  {
   "cell_type": "code",
   "execution_count": null,
   "metadata": {},
   "outputs": [],
   "source": [
    "data = [10, 20, 30, 40, 50]\n"
   ]
  },
  {
   "cell_type": "markdown",
   "metadata": {},
   "source": [
    "*Szótárból létrehozva*:"
   ]
  },
  {
   "cell_type": "code",
   "execution_count": null,
   "metadata": {},
   "outputs": [],
   "source": [
    "data = {'a': 10, 'b': 20, 'c': 30, 'd': 40, 'e': 50}\n"
   ]
  },
  {
   "cell_type": "markdown",
   "metadata": {},
   "source": [
    "*Lehetőségünk van a szótár csak néhány elemének importjára*"
   ]
  },
  {
   "cell_type": "code",
   "execution_count": null,
   "metadata": {},
   "outputs": [],
   "source": []
  },
  {
   "cell_type": "markdown",
   "metadata": {},
   "source": [
    "*Hozzáférés elemekhez az index vagy az egyedi címkék alapján*:"
   ]
  },
  {
   "cell_type": "code",
   "execution_count": null,
   "metadata": {},
   "outputs": [],
   "source": []
  },
  {
   "cell_type": "markdown",
   "metadata": {},
   "source": [
    "*Szűrés:*"
   ]
  },
  {
   "cell_type": "code",
   "execution_count": null,
   "metadata": {},
   "outputs": [],
   "source": []
  },
  {
   "cell_type": "markdown",
   "metadata": {},
   "source": [
    "*Statisztikai műveletek:*"
   ]
  },
  {
   "cell_type": "code",
   "execution_count": null,
   "metadata": {},
   "outputs": [],
   "source": []
  },
  {
   "cell_type": "markdown",
   "metadata": {},
   "source": [
    "*Vizualizáció:*"
   ]
  },
  {
   "cell_type": "code",
   "execution_count": null,
   "metadata": {},
   "outputs": [],
   "source": []
  },
  {
   "cell_type": "markdown",
   "metadata": {},
   "source": [
    "#### ***Dataframe:***\n",
    "- kétdimenziós adatszerkezet\n",
    "- többdimenziós adatok tárolására és kezelésére alkalmas\n",
    "- tartalmazza a sorokat és oszlopokat, amelyek címkézettek lehetnek\n",
    "- számos beépített funkcióval rendelkezik az adatok manipulálására és elemzésére\n",
    "- könnyen létrehozható, például listákból vagy szótárakból\n",
    "- létrehozó *'konstruktora'* a `pd.DataFrame(adat)`"
   ]
  },
  {
   "cell_type": "markdown",
   "metadata": {},
   "source": [
    "*Szótárból létrehozva*:"
   ]
  },
  {
   "cell_type": "code",
   "execution_count": null,
   "metadata": {},
   "outputs": [],
   "source": [
    "data = {'Name': {'a': 'John', 'b': 'Anna', 'c': 'Peter', 'd': 'Linda'},\n",
    "        'Age': {'a': 25, 'b': 30, 'c': 35, 'd': 40},\n",
    "        'City': {'a': 'New York', 'b': 'Paris', 'c': 'Berlin', 'd': 'Tokyo'}}\n",
    "\n",
    "# DataFrame"
   ]
  },
  {
   "cell_type": "markdown",
   "metadata": {},
   "source": [
    "*Listából létrehozva*:"
   ]
  },
  {
   "cell_type": "code",
   "execution_count": null,
   "metadata": {},
   "outputs": [],
   "source": [
    "data = {'Name': ['John', 'Anna', 'Peter', 'Linda'],\n",
    "        'Age': [25, 30, 35, 40],\n",
    "        'City': ['New York', 'Paris', 'Berlin', 'Tokyo']}\n",
    "\n",
    "# DataFrame"
   ]
  },
  {
   "cell_type": "markdown",
   "metadata": {},
   "source": [
    "*Adatok elérése a `.loc[hely]` függvénnyel történik:*"
   ]
  },
  {
   "cell_type": "code",
   "execution_count": null,
   "metadata": {},
   "outputs": [],
   "source": []
  },
  {
   "cell_type": "markdown",
   "metadata": {},
   "source": [
    "*Akár többet is lekérhetünk*"
   ]
  },
  {
   "cell_type": "code",
   "execution_count": null,
   "metadata": {},
   "outputs": [],
   "source": []
  },
  {
   "cell_type": "markdown",
   "metadata": {},
   "source": [
    "*Saját indexelés alapján is elérhetjük:*"
   ]
  },
  {
   "cell_type": "code",
   "execution_count": null,
   "metadata": {},
   "outputs": [],
   "source": []
  },
  {
   "cell_type": "markdown",
   "metadata": {},
   "source": [
    "*Kulcs alapján értéket is módosíthatunk:*"
   ]
  },
  {
   "cell_type": "code",
   "execution_count": null,
   "metadata": {},
   "outputs": [],
   "source": []
  },
  {
   "cell_type": "markdown",
   "metadata": {},
   "source": [
    "**Példa:** Drónadatok feldolgozása\n",
    "\n",
    "Az alábbiakban adott a University of Zürich (UZH) Robotics and Perception Group laborjának egy mérése. Ebben a mérésben egy önvezető drón pályáját figyeltük meg és a feladatunk, hogy a mozgást kinematikai szempontból elemezzük:\n",
    "1. Töltsük le, és tároljuk el egy DataFrame-ben a mérési adatokat!\n",
    "2. Jelenítsük meg a mért adatokat egy interaktív (plotly) ábrán!\n",
    "3. Numerikus deriválás segítségével számítsuk ki a helyzetkoordinátákból a drón sebességét!\n",
    "4. Hasonlítsuk össze a kapott értékeket a táblázatban található - szenzorosan mért - sebességértékekkel!"
   ]
  },
  {
   "cell_type": "markdown",
   "metadata": {},
   "source": [
    "**Megoldás:** 1. Adatok letöltése\n",
    "\n",
    "*Megjegyzés: Ha a letöltés során nem működik a* `git` *parancs, akkor a linkre kattintva csak töltsük le a mappát!*"
   ]
  },
  {
   "cell_type": "code",
   "execution_count": null,
   "metadata": {},
   "outputs": [],
   "source": [
    "# A git paranccsal egyszerűen letölthetjük az adatokat\n",
    "! git clone https://github.com/uzh-rpg/mh_autotune/"
   ]
  },
  {
   "cell_type": "markdown",
   "metadata": {},
   "source": [
    "Szükséges importok:"
   ]
  },
  {
   "cell_type": "code",
   "execution_count": null,
   "metadata": {},
   "outputs": [],
   "source": [
    "! pip install plotly\n",
    "! pip install pandas"
   ]
  },
  {
   "cell_type": "markdown",
   "metadata": {},
   "source": [
    "Letöltés után már készen is állunk arra, hogy beolvassuk és egy `DataFrame` változóban eltároljuk az adathalmazunkat. "
   ]
  },
  {
   "cell_type": "code",
   "execution_count": null,
   "metadata": {},
   "outputs": [],
   "source": [
    "import pandas as pd\n",
    "\n",
    "# Fileokat egyszerűen beolvashatunk közvetlen DataFrame-be is:\n",
    "df = pd.read_csv(\"mh_autotune/resources/trajectories/spiral.csv\")\n",
    "\n",
    "# ZIP esetén:\n",
    "# df = pd.read_csv(\"mh_autotune-main/mh_autotune-main/resources/trajectories/spiral.csv\")\n",
    "\n",
    "df "
   ]
  },
  {
   "cell_type": "markdown",
   "metadata": {},
   "source": [
    "Amit fontos észrevenni, hogy ez a sok adat önmagában semmitmondó, és nehezen lehet összefoglalni, hogy a mi a mérés **információtartalma**. Annak érdekében, hogy \"okosabbak is legyünk\" az adatokból jellemzően több statisztikai mutatót is számolunk, ábrázoljuk az adatokat (akár térben és időben is), illetve a számunkra megfelelő módon transzformáljuk.\n",
    "\n",
    "Mivel itt egy mérésről van szó, ezért érdemes ábrázolni az adatokat!"
   ]
  },
  {
   "cell_type": "markdown",
   "metadata": {},
   "source": [
    "**Megoldás:** 2. Az adatok ábrázolása"
   ]
  },
  {
   "cell_type": "code",
   "execution_count": null,
   "metadata": {},
   "outputs": [],
   "source": [
    "# Notebook-kompatibilitás\n",
    "from plotly.offline import init_notebook_mode\n",
    "init_notebook_mode(connected=True)\n",
    "\n",
    "# Plotly beolvasása\n",
    "import plotly.express as px\n",
    "\n",
    "# Az egyes tengelyek a dataframe egyes oszlopai\n"
   ]
  },
  {
   "cell_type": "markdown",
   "metadata": {},
   "source": [
    "**Megoldás** 3. Sebességek ábrázolása\n",
    "\n",
    "Numerikus deriválás segítségével könnyen számíthatóak a sebességek:\n",
    "$\\begin{equation} v_i[k] = \\dot{x}_i[k] = \\frac{x_i[k]-x_i[k-1]}{\\Delta t} \\end{equation}$"
   ]
  },
  {
   "cell_type": "code",
   "execution_count": null,
   "metadata": {},
   "outputs": [],
   "source": [
    "import numpy as np"
   ]
  },
  {
   "cell_type": "markdown",
   "metadata": {},
   "source": [
    "Ezt követően ezt is ábrázoljuk:"
   ]
  },
  {
   "cell_type": "code",
   "execution_count": null,
   "metadata": {},
   "outputs": [],
   "source": []
  },
  {
   "cell_type": "markdown",
   "metadata": {},
   "source": [
    "**Megoldás:** 4. Sebességértékek összehasonlítása"
   ]
  },
  {
   "cell_type": "code",
   "execution_count": null,
   "metadata": {},
   "outputs": [],
   "source": []
  }
 ],
 "metadata": {
  "kernelspec": {
   "display_name": "Python 3",
   "language": "python",
   "name": "python3"
  },
  "language_info": {
   "codemirror_mode": {
    "name": "ipython",
    "version": 3
   },
   "file_extension": ".py",
   "mimetype": "text/x-python",
   "name": "python",
   "nbconvert_exporter": "python",
   "pygments_lexer": "ipython3",
   "version": "3.12.2"
  }
 },
 "nbformat": 4,
 "nbformat_minor": 2
}
