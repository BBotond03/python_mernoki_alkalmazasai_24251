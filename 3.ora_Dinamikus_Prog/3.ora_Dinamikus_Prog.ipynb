{
 "cells": [
  {
   "cell_type": "markdown",
   "metadata": {},
   "source": [
    "\n",
    "# **Dinamikus Programozás**\n",
    "\n",
    "A dinamikus programozás egy optimalizációs technika, ahol a cél, hogy kisebb alproblémákból találjunk egy optimális megoldást egy nagyobb problémára. Ez a probléma a következő két karakterisztikával kell, hogy rendelkezzen:\n",
    "\n",
    "1. **Optimális struktúra:** Összekombináljuk az alproblémák optimális megoldását, hogy megtaláljuk a főprobléma optimális megoldását.\n",
    "   \n",
    "   **Példa:** Keressük meg a minimális költségű utat egy súlyozott gráfban egy forrás csomópontból egy cél csomópontba.  \n",
    "   Ezt a problémát kisebb részproblémákra bonthatjuk:\n",
    "   1. Találjuk meg a minimális költségű utat a forrás csomópontból minden köztes csomópontba.\n",
    "   2. Találjuk meg a minimális költségű utat minden köztes csomópontból a cél csomópontba.  \n",
    "   A nagyobb probléma megoldása ezekből a kisebb részproblémák megoldásaiból építhető fel.\n",
    "\n",
    "2. **Egymást átfedő problémák:** Ugyanaz az alprobléma többször is meg van oldva különböző részein a problémának.\n",
    "   \n",
    "   **Példa:** Fibonacci-sorozat kiszámítása\n",
    "   Ahhoz, hogy kiszámoljuk a Fibonacci-számot az n-edik indexnél, ki kell számolnunk a Fibonacci-számokat az n-1-edik és n-2-edik indexeknél.  \n",
    "   Ez azt jelenti, hogy az n-1-edik index Fibonacci-számának kiszámítására szolgáló részproblémát kétszer is felhasználjuk a nagyobb probléma megoldásában."
   ]
  },
  {
   "cell_type": "markdown",
   "metadata": {},
   "source": [
    "## **Nézzük meg néhány program futási idejét futás szám (n-t) figyelembe véve:**\n",
    "\n",
    "1. **O(1) - Állandó idő (Constant Time)**\n",
    "   - Ha egy algoritmus mindig ugyanannyi időt vesz igénybe, függetlenül a bemeneti adatok méretétől \n",
    "   - **Például** egy tömb első elemének elérése."
   ]
  },
  {
   "cell_type": "code",
   "execution_count": 13,
   "metadata": {},
   "outputs": [],
   "source": [
    "def get_first_element(arr):\n",
    "    return arr[0]"
   ]
  },
  {
   "cell_type": "markdown",
   "metadata": {},
   "source": [
    "2. **O(log n) - Logaritmikus idő (Logarithmic Time)**\n",
    "   - **Példa:** Keresés egy rendezett tömbben bináris kereséssel."
   ]
  },
  {
   "cell_type": "code",
   "execution_count": 12,
   "metadata": {},
   "outputs": [],
   "source": [
    "def binary_search(arr, target):\n",
    "    low, high = 0, len(arr) - 1\n",
    "    while low <= high:\n",
    "        mid = (low + high) // 2\n",
    "        if arr[mid] == target:\n",
    "            return mid\n",
    "        elif arr[mid] < target:\n",
    "            low = mid + 1\n",
    "        else:\n",
    "            high = mid - 1\n",
    "    return -1"
   ]
  },
  {
   "cell_type": "markdown",
   "metadata": {},
   "source": [
    "3. **O(n) - Lineáris idő (Linear Time)**\n",
    "   - **Példa:** Egy tömb minden elemén végigiterálás."
   ]
  },
  {
   "cell_type": "code",
   "execution_count": 14,
   "metadata": {},
   "outputs": [],
   "source": [
    "def sum_elements(arr):\n",
    "    total = 0\n",
    "    for num in arr:\n",
    "        total += num\n",
    "    return total"
   ]
  },
  {
   "cell_type": "markdown",
   "metadata": {},
   "source": [
    "4. **O(n log n) - Lineáris-logaritmikus idő (Linearithmic Time)**\n",
    "   - **Példa:** Gyors rendezés (Quicksort) vagy mátrix rendezés."
   ]
  },
  {
   "cell_type": "code",
   "execution_count": 17,
   "metadata": {},
   "outputs": [],
   "source": [
    "def quicksort(arr):\n",
    "    if len(arr) <= 1:\n",
    "        return arr\n",
    "    pivot = arr[len(arr) // 2]\n",
    "    left = [x for x in arr if x < pivot]\n",
    "    middle = [x for x in arr if x == pivot]\n",
    "    right = [x for x in arr if x > pivot]\n",
    "    return quicksort(left) + middle + quicksort(right)"
   ]
  },
  {
   "cell_type": "markdown",
   "metadata": {},
   "source": [
    "5. **O(n^2) - Négyzetes idő (Quadratic Time)**\n",
    "   - **Példa:** Két beágyazott ciklus használata, például a buborékrendezés (Bubble Sort)."
   ]
  },
  {
   "cell_type": "code",
   "execution_count": 16,
   "metadata": {},
   "outputs": [],
   "source": [
    "def bubble_sort(arr):\n",
    "    n = len(arr)\n",
    "    for i in range(n):\n",
    "        for j in range(0, n-i-1):\n",
    "            if arr[j] > arr[j+1]:\n",
    "                arr[j], arr[j+1] = arr[j+1], arr[j]"
   ]
  },
  {
   "cell_type": "markdown",
   "metadata": {},
   "source": [
    "6. **O(2^n) - Exponenciális idő (Exponential Time)**\n",
    "   - **Példa:** Minden lehetséges kombináció generálása, például a Fibonacci sorozat rekurzív megoldása."
   ]
  },
  {
   "cell_type": "code",
   "execution_count": 15,
   "metadata": {},
   "outputs": [],
   "source": [
    "def fibonacci(n):\n",
    "    if n <= 1:\n",
    "        return n\n",
    "    return fibonacci(n-1) + fibonacci(n-2)"
   ]
  },
  {
   "cell_type": "markdown",
   "metadata": {},
   "source": [
    "\n",
    "7. **O(n!) - Faktoriális idő (Factorial Time)**\n",
    "   - **Példa:** Minden permutáció generálása, például a TSP (Traveling Salesman Problem) brute-force megoldása."
   ]
  },
  {
   "cell_type": "code",
   "execution_count": 29,
   "metadata": {},
   "outputs": [],
   "source": [
    "from itertools import permutations\n",
    "\n",
    "def generate_permutations(arr):\n",
    "    return list(permutations(arr))"
   ]
  },
  {
   "cell_type": "markdown",
   "metadata": {},
   "source": [
    "## Tekintsük meg ezeknek a problémáknak a függvényeinek rajzait is:"
   ]
  },
  {
   "cell_type": "code",
   "execution_count": null,
   "metadata": {},
   "outputs": [],
   "source": [
    "from itertools import permutations\n",
    "import time\n",
    "import numpy as np\n",
    "import matplotlib\n",
    "import matplotlib.pyplot as plt\n",
    "\n",
    "# Function to measure runtime\n",
    "def measure_runtime(func, *args):\n",
    "    start_time = time.time()\n",
    "    func(*args)\n",
    "    end_time = time.time()\n",
    "    return end_time - start_time\n",
    "\n",
    "# Plotting runtimes\n",
    "def plot_runtimes():\n",
    "    ns = np.arange(1, 21)\n",
    "    times = {\n",
    "        'O(1)': [],\n",
    "        'O(log n)': [],\n",
    "        'O(n)': [],\n",
    "        'O(n log n)': [],\n",
    "        'O(n^2)': [],\n",
    "        'O(2^n)': [],\n",
    "        'O(n!)': []\n",
    "    }\n",
    "\n",
    "    # O(1) - constant time\n",
    "    for n in ns:\n",
    "        arr = np.arange(n)\n",
    "        times['O(1)'].append(measure_runtime(get_first_element, arr))\n",
    "\n",
    "    # O(log n) - logarithmic time\n",
    "    for n in ns:\n",
    "        arr = np.arange(2**n)  # Ensure array size is a power of 2\n",
    "        target = arr[-1]\n",
    "        times['O(log n)'].append(measure_runtime(binary_search, arr, target))\n",
    "\n",
    "    # O(n) - linear time\n",
    "    for n in ns:\n",
    "        arr = np.random.randint(0, 100, size=n)\n",
    "        times['O(n)'].append(measure_runtime(sum_elements, arr))\n",
    "\n",
    "    # O(n log n) - linearithmic time\n",
    "    for n in ns:\n",
    "        arr = np.random.randint(0, 100, size=n)\n",
    "        times['O(n log n)'].append(measure_runtime(quicksort, arr))\n",
    "\n",
    "    # O(n^2) - quadratic time\n",
    "    for n in ns:\n",
    "        arr = np.random.randint(0, 100, size=n)\n",
    "        times['O(n^2)'].append(measure_runtime(bubble_sort, arr))\n",
    "\n",
    "    # O(2^n) - exponential time\n",
    "    exp_ns = range(1, 10)  # Smaller range for faster computation\n",
    "    for n in exp_ns:\n",
    "        times['O(2^n)'].append(measure_runtime(fibonacci, n))\n",
    "\n",
    "    # O(n!) - factorial time\n",
    "    fact_ns = range(1, 7)  # Smaller range for faster computation\n",
    "    for n in fact_ns:\n",
    "        arr = np.arange(n)\n",
    "        times['O(n!)'].append(measure_runtime(generate_permutations, arr))\n",
    "\n",
    "    # Plotting\n",
    "    plt.figure(figsize=(12, 8))\n",
    "    for label, time_list in times.items():\n",
    "        plt.plot(ns[:len(time_list)], time_list, label=label)\n",
    "    \n",
    "    plt.yscale('log')\n",
    "    plt.xlabel('Input Size (n)')\n",
    "    plt.ylabel('Runtime (seconds)')\n",
    "    plt.title('Runtime of Different Algorithms')\n",
    "    plt.legend()\n",
    "    plt.grid(True)\n",
    "    plt.show()\n",
    "\n",
    "# Call the plotting function\n",
    "plot_runtimes()"
   ]
  },
  {
   "cell_type": "markdown",
   "metadata": {},
   "source": [
    "## **Felülről lefelé (top-down)** \n",
    "A megközelítés a dinamikus programozás egyik módszere, ahol a probléma nagyobb részével kezdünk, és azt bontjuk le kisebb részproblémákra. Ennek a módszernek a lényege, hogy rekurzióval oldjuk meg a problémát, miközben a már megoldott részproblémák eredményeit eltároljuk (ezt nevezzük **memorizációnak**), így elkerülhető az újra felhasználás és számítás.\n",
    "\n",
    "### A megközelítés lépései:\n",
    "1. **Rekurzió**: A fő problémát rekurzív módon bontjuk le kisebb részproblémákra.\n",
    "2. **Memorizáció**: A kisebb részproblémák megoldásait eltároljuk egy memóriában (pl. egy táblában vagy tömbben), hogy később, ha szükség van rájuk, ne kelljen újra kiszámolni.\n",
    "3. **Újrafelhasználás**: Ha egy adott részproblémára már van megoldás, azt közvetlenül használjuk ahelyett, hogy újra kiszámolnánk."
   ]
  },
  {
   "cell_type": "markdown",
   "metadata": {},
   "source": [
    "### Példa: Fibonacci-számok kiszámítása top-down megközelítéssel\n",
    "\n",
    "A Fibonacci-számokat top-down módszerrel rekurzívan számíthatjuk ki úgy, hogy eltároljuk a korábban kiszámított értékeket."
   ]
  },
  {
   "cell_type": "code",
   "execution_count": 10,
   "metadata": {},
   "outputs": [],
   "source": [
    "def fibonacci(n, memo={}): \n"
   ]
  },
  {
   "cell_type": "markdown",
   "metadata": {},
   "source": [
    "**Hátrány:** Többlet memóriafelhasználás szükséges a megoldások tárolásához."
   ]
  },
  {
   "cell_type": "markdown",
   "metadata": {},
   "source": [
    "## **Alulról felfelé** (bottom-up) \n",
    "A megközelítés a dinamikus programozás másik módszere, ahol először a legkisebb részproblémákat oldjuk meg, majd ezeket fokozatosan felhasználva építjük fel a megoldást a nagyobb problémára. Ezzel a módszerrel elkerüljük a rekurziót és a memorizációt.\n",
    "\n",
    "### Bottom-up megközelítés lépései:\n",
    "1. **Kisebb részproblémák megoldása**: Először megoldjuk a legkisebb alproblémákat.\n",
    "2. **Építkezés a megoldásokból**: Az alproblémák megoldásait felhasználva fokozatosan haladunk a nagyobb probléma megoldása felé.\n",
    "3. **Táblázatosítás**: A részproblémák megoldásait egy táblázatban vagy tömbben tároljuk, és mindig az előző eredményeket használjuk a következő számításhoz."
   ]
  },
  {
   "cell_type": "markdown",
   "metadata": {},
   "source": [
    "### Példa: Fibonacci-számok kiszámítása bottom-up megközelítéssel\n",
    "\n",
    "A Fibonacci-számok alulról felfelé történő kiszámításához először kiszámoljuk a legkisebb Fibonacci-számokat (0, 1), majd ezek segítségével fokozatosan építjük fel a nagyobb értékeket."
   ]
  },
  {
   "cell_type": "code",
   "execution_count": 5,
   "metadata": {},
   "outputs": [],
   "source": [
    "def fibonacci(n):\n"
   ]
  },
  {
   "cell_type": "markdown",
   "metadata": {},
   "source": [
    "### Példa: Fibonacci-számok kiszámítása egyszerű rekurzióval."
   ]
  },
  {
   "cell_type": "code",
   "execution_count": 8,
   "metadata": {},
   "outputs": [],
   "source": [
    "def fibonacci(n):\n"
   ]
  },
  {
   "cell_type": "markdown",
   "metadata": {},
   "source": [
    "### Vizsgáljuk meg a futási időt:"
   ]
  },
  {
   "cell_type": "code",
   "execution_count": 11,
   "metadata": {},
   "outputs": [
    {
     "data": {
      "text/plain": [
       "(832040, 3.110000034212135e-05)"
      ]
     },
     "execution_count": 11,
     "metadata": {},
     "output_type": "execute_result"
    }
   ],
   "source": [
    "import time\n",
    "\n",
    "#függvény az idő mérésére\n",
    "def time_fibonacci(n):\n",
    "    start_time = time.perf_counter()\n",
    "    result = fibonacci(n)\n",
    "    end_time = time.perf_counter()\n",
    "    elapsed_time = end_time - start_time\n",
    "    return result, elapsed_time\n",
    "\n",
    "n = 30 \n",
    "fib_result, fib_time = time_fibonacci(n)\n",
    "\n",
    "fib_result, fib_time"
   ]
  },
  {
   "cell_type": "markdown",
   "metadata": {},
   "source": [
    "A futási időt vizsgálva láthatjuk, hogy a dinamikus programozási elveket felhasználva jelentősen hatákonyabb algoritmust írtunk."
   ]
  },
  {
   "cell_type": "markdown",
   "metadata": {},
   "source": [
    "## **Példa feladatok:**"
   ]
  },
  {
   "cell_type": "markdown",
   "metadata": {},
   "source": [
    "### **Pénzváltás - Számoljuk össze a számát, ahogy az összeg kiszámítható**\n",
    "\n",
    "Adott egy egész számokat tartalmazó `N` méretű tömb `coins[]` amely különböző címleteket reprezentál, valamint egy egész szám `sum`, amely az összeget jelöli. A feladat az, hogy számoljuk meg az összes lehetséges kombinációt, amellyel a megadott összeget (sum) el lehet érni.\n",
    "\n",
    "*Megjegyzés: Tegyük fel, hogy minden típusú érméből végtelen mennyiség áll rendelkezésünkre.*"
   ]
  },
  {
   "cell_type": "code",
   "execution_count": 31,
   "metadata": {},
   "outputs": [],
   "source": [
    "def count(coins, n, sum):\n",
    "    #ide jön a megoldás\n"
   ]
  },
  {
   "cell_type": "markdown",
   "metadata": {},
   "source": [
    "### Nézzük meg a futási időt:"
   ]
  },
  {
   "cell_type": "code",
   "execution_count": 33,
   "metadata": {},
   "outputs": [
    {
     "name": "stdout",
     "output_type": "stream",
     "text": [
      "Eredmény: 4, Futási idő: 0.000026 másodperc\n"
     ]
    }
   ],
   "source": [
    "import time\n",
    "\n",
    "def time_function(func, *args, **kwargs):\n",
    "    start_time = time.perf_counter()\n",
    "    result = func(*args, **kwargs)\n",
    "    end_time = time.perf_counter()\n",
    "    elapsed_time = end_time - start_time\n",
    "    return result, elapsed_time\n",
    "\n",
    "#ha a számokon nem változtattok az eredmény 4\n",
    "coins = [1, 2, 3]\n",
    "n = len(coins)\n",
    "sum_value = 4 \n",
    "\n",
    "result, elapsed_time = time_function(count, coins, n, sum_value)\n",
    "print(f\"Eredmény: {result}, Futási idő: {elapsed_time:.6f} másodperc\")\n"
   ]
  },
  {
   "cell_type": "markdown",
   "metadata": {},
   "source": [
    "### **Kerités festés algoritmus:**\n",
    "\n",
    "Adott egy kerítés `n` oszloppal és `k` színnel, találjuk meg annak számát, ahágy féle képpen a kerítést festhetjük úgy, hogy legfeljebb 2 szomszédos oszlop legyen ugyanazzal a színnel festve. Mivel az eredmény nagy lehet, határozzuk meg modulo \\(10^9 + 7\\) szerint."
   ]
  },
  {
   "cell_type": "code",
   "execution_count": 35,
   "metadata": {},
   "outputs": [
    {
     "name": "stdout",
     "output_type": "stream",
     "text": [
      "6\n"
     ]
    }
   ],
   "source": [
    "def countWays(n, k):\n",
    "    #ide jon a megoldás"
   ]
  },
  {
   "cell_type": "markdown",
   "metadata": {},
   "source": [
    "### Nézzük meg a futási időt:"
   ]
  },
  {
   "cell_type": "code",
   "execution_count": 36,
   "metadata": {},
   "outputs": [
    {
     "name": "stdout",
     "output_type": "stream",
     "text": [
      "Eredmény: 6, Futási idő: 0.000012 másodperc\n"
     ]
    }
   ],
   "source": [
    "n = 3\n",
    "k = 2\n",
    "# ha a számokon nem változtattok az eredmény 6\n",
    "\n",
    "result, elapsed_time = time_function(countWays, n, k)\n",
    "print(f\"Eredmény: {result}, Futási idő: {elapsed_time:.6f} másodperc\")"
   ]
  },
  {
   "cell_type": "markdown",
   "metadata": {},
   "source": [
    "### **Leghosszabb palindromikus szó megkeresése:**\n",
    "Adott egy `S` nevű karakterlánc, találjuk meg a leghosszabb palindromikus alkarakterlánc hosszát benne.  \n",
    "\n",
    "*Megjegyzés: A palindromikus kakrakterlánx olyan karakterlánc, amely előre és hátra olvasva is ugyanaz. Például az \"abcba\" és az \"abccba\" palindromikus karakterlánc.*"
   ]
  },
  {
   "cell_type": "code",
   "execution_count": 39,
   "metadata": {},
   "outputs": [
    {
     "name": "stdout",
     "output_type": "stream",
     "text": [
      "Eredmény: 4, Futási idő: 0.000046 másodperc\n"
     ]
    }
   ],
   "source": [
    "seq = \"ABBACD\"\n",
    "n = len(seq)\n",
    "result, elapsed_time = time_function(lps,seq, 0, n-1)\n",
    "print(f\"Eredmény: {result}, Futási idő: {elapsed_time:.6f} másodperc\")"
   ]
  },
  {
   "cell_type": "markdown",
   "metadata": {},
   "source": [
    "### Megoldás memorizációval:"
   ]
  },
  {
   "cell_type": "code",
   "execution_count": 40,
   "metadata": {},
   "outputs": [],
   "source": [
    "def longestPalinSubseq(S):\n",
    "#ide jon a megoldás\n"
   ]
  },
  {
   "cell_type": "markdown",
   "metadata": {},
   "source": [
    "### Nézzük meg a futási időt:"
   ]
  },
  {
   "cell_type": "code",
   "execution_count": 41,
   "metadata": {},
   "outputs": [
    {
     "name": "stdout",
     "output_type": "stream",
     "text": [
      "Eredmény: 4, Futási idő: 0.000058 másodperc\n"
     ]
    }
   ],
   "source": [
    "seq = \"ABBACD\"\n",
    "result, elapsed_time = time_function(longestPalinSubseq,seq)\n",
    "print(f\"Eredmény: {result}, Futási idő: {elapsed_time:.6f} másodperc\")"
   ]
  },
  {
   "cell_type": "markdown",
   "metadata": {},
   "source": [
    "# Szó felbontás probléma:\n",
    "\n",
    "Van egy szótárunk amiben bizonyos szavak el vannak tárolva. Ezen kívül kapunk egy bemeneti stringet és meg kell határoznunk a bemeneti szöveg felbontható e ezekre a szavakra."
   ]
  },
  {
   "cell_type": "markdown",
   "metadata": {},
   "source": [
    "### Megoldás dinamikus programozás szerint:"
   ]
  },
  {
   "cell_type": "code",
   "execution_count": 45,
   "metadata": {},
   "outputs": [],
   "source": [
    "# Egy segédfüggvény, amely ellenőrzi, hogy a szó benne van-e a szótárban.\n",
    "# A szótárhoz egy karakterláncokból álló tömböt használunk. Karakterláncok tömbjének\n",
    "# használata a szótárhoz nem a legjobb ötlet, de a program egyszerűsítése érdekében\n",
    "# használjuk.\n",
    "def dictionaryContains(word):\n",
    "    dictionary = [ \"mobile\", \"samsung\", \"sam\", \"sung\", \"man\", \"mango\", \"icecream\", \"and\", \"go\", \"i\",\n",
    "                \"like\", \"ice\", \"cream\" ]\n",
    "    size = len(dictionary)\n",
    "    for i in range(size):\n",
    "        if (dictionary[i] == word):\n",
    "            return True\n",
    "    return False\n",
    "\n",
    "# Igazat ad vissza, ha a sztring felbontható szóközökkel elválasztott szavakra,\n",
    "# különben hamisat ad vissza\n",
    "def wordBreak(Str):\n",
    "#ide jon a megoldas"
   ]
  },
  {
   "cell_type": "markdown",
   "metadata": {},
   "source": [
    "### Nézzük meg a futási időt:"
   ]
  },
  {
   "cell_type": "code",
   "execution_count": 47,
   "metadata": {},
   "outputs": [
    {
     "name": "stdout",
     "output_type": "stream",
     "text": [
      "Eredmény: True, Futási idő: 0.000106 másodperc\n"
     ]
    }
   ],
   "source": [
    "word = \"ilikesamsung\"\n",
    "\n",
    "\n",
    "result, elapsed_time = time_function(wordBreak, word)\n",
    "print(f\"Eredmény: {result}, Futási idő: {elapsed_time:.6f} másodperc\")"
   ]
  }
 ],
 "metadata": {
  "kernelspec": {
   "display_name": "base",
   "language": "python",
   "name": "python3"
  },
  "language_info": {
   "codemirror_mode": {
    "name": "ipython",
    "version": 3
   },
   "file_extension": ".py",
   "mimetype": "text/x-python",
   "name": "python",
   "nbconvert_exporter": "python",
   "pygments_lexer": "ipython3",
   "version": "3.11.5"
  }
 },
 "nbformat": 4,
 "nbformat_minor": 2
}
